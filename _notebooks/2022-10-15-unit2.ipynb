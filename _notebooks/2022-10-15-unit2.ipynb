{
 "cells": [
  {
   "cell_type": "markdown",
   "metadata": {},
   "source": [
    "# Unit 2: Using Objects\n",
    "\n",
    "- toc: true\n",
    "- badges: true\n",
    "- comments: true\n",
    "- categories: [fastpages, jupyter]\n",
    "- permalink: unitnotes/unit2\n",
    "\n",
    "{% include mini_navbar2.html %}"
   ]
  },
  {
   "cell_type": "markdown",
   "metadata": {},
   "source": [
    "## Objects - Instances of Classes\n",
    "- a class is a blueprint for creating objects with the same behavior and defined attributes\n",
    "- an object is a specific entity, made from a class, that you can manipulate in your programs\n",
    "- objects are instances of classes with variables used to name them\n",
    "\n",
    "## Creating and Storing Objects (Instantiation)\n",
    "- constructors are used to initialize the attributes for an object\n",
    "- example of formal parameters:"
   ]
  },
  {
   "cell_type": "code",
   "execution_count": null,
   "metadata": {},
   "outputs": [],
   "source": [
    "public Person(String nm, int ag, boolean ad) {\n",
    "    name = nm;\n",
    "    age = ag;\n",
    "    isAdult = ad;\n",
    "}"
   ]
  },
  {
   "cell_type": "markdown",
   "metadata": {},
   "source": [
    "- overloading constructors\n",
    "  - there can be more than one constructor for an object, which is called overloading the constructor\n",
    "  - a no-argument constructor has no parameters and sets the instance variables for the object to default values"
   ]
  }
 ],
 "metadata": {
  "kernelspec": {
   "display_name": "Java",
   "language": "java",
   "name": "java"
  },
  "language_info": {
   "name": "java",
   "version": "3.8.10"
  },
  "orig_nbformat": 4,
  "vscode": {
   "interpreter": {
    "hash": "916dbcbb3f70747c44a77c7bcd40155683ae19c65e1c03b4aa3499c5328201f1"
   }
  }
 },
 "nbformat": 4,
 "nbformat_minor": 2
}
