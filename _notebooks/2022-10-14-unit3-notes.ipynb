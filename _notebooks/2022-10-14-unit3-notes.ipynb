{
 "cells": [
  {
   "cell_type": "markdown",
   "metadata": {},
   "source": [
    "# Unit 3 - Boolean Expressions and if Statements\n",
    "\n",
    "- toc: true\n",
    "- badges: true\n",
    "- comments: true\n",
    "- categories: [jupyter]"
   ]
  },
  {
   "cell_type": "markdown",
   "metadata": {},
   "source": [
    "## 3.1 - \n",
    "- Boolean Expressions: represent logic and tell whether something is true or false\n",
    "- Operators used to create Booleans\n",
    "- \"==\" (same value/equals to)\n",
    "- \"!=\" (checks for inequality)\n",
    "- \"<\" (less than)\n",
    "- \"<=\" (less than or equal to)\n",
    "- \">\" (greater than)\n",
    "- \">=\" (greater than or equal to)\n",
    "\n",
    "## 3.2 - \n",
    "- Conditional Statements - perform computations depending on whether a Boolean condition evaluates to true or false\n",
    "- If Statements - if statement occurs if a block of code is run only if the condition is true\n",
    "\n",
    "## 3.3 - \n",
    "- If-Else Statements - statement to run a block of code among more than one alternative\n",
    "\n",
    "## 3.4 -\n",
    "- Else-if Statements - statement to run a condition if the original condition was false\n",
    "\n",
    "## 3.5 - \n",
    "- Nested if statements - If-statements within if-statements\n",
    "  - Note - If the outer if-statement evaluates to false, the inner if-statements are not evaluated.\n",
    "- Logical operators - Used to form **Compound Boolean Expressions**\n",
    "  - && - and\n",
    "  - || - or\n",
    "  - ! - not \n",
    "- Short-circuited evaluation: The result of a compound Boolean expression can be determined just by looking at a few expressions. \n",
    "- **Truth Tables** show the result of combining any two expression boolean expressions using the AND operator and the OR operator (or the NOT operator).\n",
    "![](../images/truthtable.png)\n",
    "\n",
    "## 3.6 - \n",
    "- **De Morgan's Laws**: Help simplify Boolean expressions\n",
    "  - `!(a&&b) = (!a || !b)`\n",
    "  - `!(a || b) = (!a && !b)`\n",
    "\n",
    "## 3.7 - \n",
    "- Use `==` to see if two object references are aliases for the same object or to see if an object is null\n",
    "- Use `.equals()` to see if the attributes of two objects are the same\n",
    "  - use this for **Comparing Numbers**, **Comparing Strings**, and **Comparing Objects**"
   ]
  },
  {
   "cell_type": "markdown",
   "metadata": {},
   "source": [
    "## Coding Challenge 1 - \n",
    "- my answer:\n",
    "1\n",
    "4\n",
    "5\n",
    "6\n",
    "7\n",
    "8\n",
    "9\n",
    "\n",
    "## Coding Challenge 3 -\n",
    "- my answer: \n",
    "true\n",
    "false\n",
    "true\n",
    "true\n",
    "\n",
    "## Possible CollegeBoard Test Question Topics:\n",
    "- equals vs == operator (The == operator will only check if pointing at the same objects)\n",
    "- if only using 1 line of code, {} is not needed between if-statements\n",
    "- conditionals must have if or else-if to latch onto\n",
    "- conditionals and control structures can be nested\n",
    "\n",
    "## Scavenger Hunt (done on paper)\n",
    "- my answer: Mr M's Desk"
   ]
  },
  {
   "cell_type": "markdown",
   "metadata": {},
   "source": [
    "## HW: 2019 FRQ 1:"
   ]
  },
  {
   "cell_type": "code",
   "execution_count": null,
   "metadata": {},
   "outputs": [],
   "source": [
    "public class FrogSimulation\n",
    "{\n",
    "/** Distance, in inches, from the starting position to the goal. */\n",
    "private int goalDistance;\n",
    "/** Maximum number of hops allowed to reach the goal. */\n",
    " private int maxHops;\n",
    "/** Constructs a FrogSimulation where dist is the distance, in inches, from the starting\n",
    "* position to the goal, and numHops is the maximum number of hops allowed to reach the goal.\n",
    "* Precondition: dist > 0; numHops > 0\n",
    "*/\n",
    " public FrogSimulation(int dist, int numHops)\n",
    "{\n",
    "goalDistance = dist;\n",
    "maxHops = numHops;\n",
    "}\n",
    "/** Returns an integer representing the distance, in inches, to be moved when the frog hops.\n",
    " */\n",
    "private int hopDistance()\n",
    "{ /* implementation not shown */ }\n",
    "/** Simulates a frog attempting to reach the goal as described in part (a).\n",
    "* Returns true if the frog successfully reached or passed the goal during the simulation;\n",
    "* false otherwise.\n",
    "*/\n",
    " public boolean simulate()\n",
    "{ /* to be implemented in part (a) */ }\n",
    " /** Runs num simulations and returns the proportion of simulations in which the frog\n",
    "* successfully reached or passed the goal.\n",
    "* Precondition: num > 0\n",
    "*/\n",
    " public double runSimulations(int num)\n",
    "{ /* to be implemented in part (b) */ }\n",
    "} "
   ]
  },
  {
   "cell_type": "markdown",
   "metadata": {},
   "source": [
    "### a)"
   ]
  },
  {
   "cell_type": "code",
   "execution_count": null,
   "metadata": {},
   "outputs": [],
   "source": [
    "/** Simulates a frog attempting to reach the goal as described in part (a).\n",
    "* Returns true if the frog successfully reached or passed the goal during the simulation;\n",
    "* false otherwise.\n",
    "*/\n",
    "public boolean simulate() {\n",
    "    int position = 0; // frog starts at 0\n",
    "    for (int count = 0; count < maxHops; count++) { // maxHops is the max the frog can hop, and after each hop the count goes up by one, the loop repeating until count = maxHops\n",
    "        position += hopDistance();\n",
    "        if (position >= goalDistance) { // if the frog goes farther than needed, return true\n",
    "            return true;\n",
    "        }\n",
    "        else if (position < 0) { // if the frog isn't there, return false and keep going\n",
    "            return false;\n",
    "        }\n",
    "    }\n",
    "    return false; // if the hops are taken up without the goal being met, it returns false\n",
    "}"
   ]
  },
  {
   "cell_type": "markdown",
   "metadata": {},
   "source": [
    "### b)"
   ]
  },
  {
   "cell_type": "code",
   "execution_count": null,
   "metadata": {},
   "outputs": [],
   "source": [
    " /** Runs num simulations and returns the proportion of simulations in which the frog\n",
    "* successfully reached or passed the goal.\n",
    "* Precondition: num > 0\n",
    "*/\n",
    "public double runSimulations(int num) { // double makes it so the value can be a decimal\n",
    "    int countSuccess = 0; // starts at 0\n",
    "    for (int count = 0; count < num; count++) { // checks if the simulation was successful for each time it was run\n",
    "        if(simulate()) { // if it turns out true, raise the count of the number of successful runs\n",
    "            countSuccess++;\n",
    "        }\n",
    "    }\n",
    "    return (double)countSuccess / num; // divides the number of successes to the overall amount of simulations to find the final result\n",
    "} "
   ]
  },
  {
   "cell_type": "markdown",
   "metadata": {},
   "source": [
    "### Quizziz: [Completed](https://quizizz.com/join/game/U2FsdGVkX19hjiFXyi2yLZ29FRX3bKbTnKiNima98%252FumvV%252BqZCH3AOERI%252FWCXCFna42cQfBynJrAIft3r5Flsw%253D%253D?gameType=async&page=nps&page=summary)"
   ]
  }
 ],
 "metadata": {
  "kernelspec": {
   "display_name": "Java",
   "language": "java",
   "name": "java"
  },
  "language_info": {
   "name": "java",
   "version": "3.8.10"
  },
  "orig_nbformat": 4,
  "vscode": {
   "interpreter": {
    "hash": "916dbcbb3f70747c44a77c7bcd40155683ae19c65e1c03b4aa3499c5328201f1"
   }
  }
 },
 "nbformat": 4,
 "nbformat_minor": 2
}
