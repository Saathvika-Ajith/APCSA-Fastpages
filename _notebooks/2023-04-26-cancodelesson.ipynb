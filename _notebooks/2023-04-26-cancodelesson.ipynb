{
 "cells": [
  {
   "attachments": {},
   "cell_type": "markdown",
   "metadata": {},
   "source": [
    "# Can Code Lesson Hacks\n",
    "\n",
    "- toc: true\n",
    "- badges: true\n",
    "- comments: true\n",
    "- categories: [fastpages, jupyter]"
   ]
  },
  {
   "attachments": {},
   "cell_type": "markdown",
   "metadata": {},
   "source": [
    "## Unit 5 Lesson: Hack (Putting it all together)"
   ]
  },
  {
   "cell_type": "code",
   "execution_count": 3,
   "metadata": {
    "vscode": {
     "languageId": "java"
    }
   },
   "outputs": [
    {
     "name": "stdout",
     "output_type": "stream",
     "text": [
      "Types of Pies Count: 3\n",
      "Type of Pie 1: Apple Pie\n"
     ]
    }
   ],
   "source": [
    "class Pie {\n",
    "    private static int numPies = 0;\n",
    "    private String type;\n",
    "\n",
    "    public Pie(String type) {\n",
    "        this.type = type;\n",
    "        numPies++;\n",
    "    }\n",
    "\n",
    "    public static int getNumPies() {\n",
    "        return numPies;\n",
    "    }\n",
    "    \n",
    "   private String getPieType() {\n",
    "           return type;\n",
    "     }\n",
    "\n",
    "    public static void main(String[] args) {\n",
    "        Pie pie1 = new Pie(\"Apple Pie\");\n",
    "        Pie pie2 = new Pie(\"Cherry Pie\");\n",
    "        Pie pie3 = new Pie(\"Peach Pie\");\n",
    "\n",
    "        System.out.println(\"Types of Pies Count: \" + Pie.getNumPies());\n",
    "        System.out.println(\"Type of Pie 1: \" + pie1.getPieType());\n",
    "    }\n",
    "}\n",
    "Pie.main(null);"
   ]
  },
  {
   "attachments": {},
   "cell_type": "markdown",
   "metadata": {},
   "source": [
    "## Unit 9 Lesson:\n",
    "### Hack 1 (Superclass/Subclass Practice)"
   ]
  },
  {
   "cell_type": "code",
   "execution_count": 2,
   "metadata": {
    "vscode": {
     "languageId": "java"
    }
   },
   "outputs": [
    {
     "name": "stdout",
     "output_type": "stream",
     "text": [
      "Toyota\n",
      "honk!\n"
     ]
    }
   ],
   "source": [
    "class Vehicle {\n",
    "    private String name;\n",
    "\n",
    "    public Vehicle(String name){\n",
    "        this.name = name;\n",
    "    }\n",
    "\n",
    "    public String getName() {\n",
    "        return this.name;\n",
    "    }\n",
    "\n",
    "    public void honk() {\n",
    "        System.out.println(\"honk!\");\n",
    "    }\n",
    "\n",
    "}\n",
    "\n",
    "class Car extends Vehicle {\n",
    "    public Car(String name) {\n",
    "        super(name);\n",
    "    }\n",
    "\n",
    "    public static void main(String[] args) {\n",
    "        Car Toyota = new Car(\"Toyota\");\n",
    "\n",
    "        System.out.println(Toyota.getName());\n",
    "        Toyota.honk();\n",
    "    }\n",
    "}\n",
    "Car.main(null);"
   ]
  },
  {
   "attachments": {},
   "cell_type": "markdown",
   "metadata": {},
   "source": [
    "### Hack 2 (Polymorphism, Super, Override)"
   ]
  },
  {
   "cell_type": "code",
   "execution_count": 7,
   "metadata": {
    "vscode": {
     "languageId": "java"
    }
   },
   "outputs": [
    {
     "name": "stdout",
     "output_type": "stream",
     "text": [
      "Food Name: Hot Wings, spiceLevel: 9\n",
      "Food Name: Ice Cream, spiceLevel: 2\n"
     ]
    }
   ],
   "source": [
    "public class Food {\n",
    "    private String name; \n",
    "\n",
    "    public Food(String name) {\n",
    "        this.name = name;\n",
    "    }\n",
    "\n",
    "    public String getName() {\n",
    "        return this.name;\n",
    "    }\n",
    "\n",
    "    public String toString() {\n",
    "        return (\"Food Name: \" + this.getName());\n",
    "    }\n",
    "}\n",
    "\n",
    "public class SpicyFood extends Food {\n",
    "    private int spiceLevel = 9;\n",
    "\n",
    "    public SpicyFood(String name) {\n",
    "        super(name);\n",
    "    }\n",
    "\n",
    "    // override superclass method\n",
    "    public String toString() {\n",
    "        return(super.toString() + \", spiceLevel: \" + this.spiceLevel);\n",
    "    }\n",
    "}\n",
    "\n",
    "public class SweetFood extends Food {\n",
    "    private int spiceLevel = 2;\n",
    "\n",
    "    public SweetFood(String name) {\n",
    "        super(name);\n",
    "    }\n",
    "\n",
    "    // override superclass method\n",
    "    public String toString() {\n",
    "        return(super.toString() + \", spiceLevel: \" + this.spiceLevel);\n",
    "    }\n",
    "}\n",
    "\n",
    "public class Tester {\n",
    "    public static void main(String[] args) {\n",
    "        Food goldenRetriever = new SpicyFood(\"Hot Wings\");\n",
    "        System.out.println(goldenRetriever.toString());\n",
    "        Food ostrich = new SweetFood(\"Ice Cream\");\n",
    "        System.out.println(ostrich.toString());\n",
    "    }\n",
    "}\n",
    "\n",
    "\n",
    "Tester.main(null);"
   ]
  },
  {
   "attachments": {},
   "cell_type": "markdown",
   "metadata": {},
   "source": [
    "## Unit 10 Lesson: Hack (Recursive Algorithm)"
   ]
  },
  {
   "cell_type": "code",
   "execution_count": 17,
   "metadata": {
    "vscode": {
     "languageId": "java"
    }
   },
   "outputs": [
    {
     "name": "stdout",
     "output_type": "stream",
     "text": [
      "The sum of all the numbers is: 55\n"
     ]
    }
   ],
   "source": [
    "public class Main {\n",
    "    public static void main(String[] args) {\n",
    "      int result = sum(10);\n",
    "      System.out.println(\"The sum of all the numbers is: \" + result);\n",
    "    }\n",
    "    public static int sum(int k) {\n",
    "      if (k > 0) {\n",
    "        return k + sum(k - 1);\n",
    "      } else {\n",
    "        return 0;\n",
    "      }\n",
    "    }\n",
    "  }\n",
    "Main.main(null);"
   ]
  }
 ],
 "metadata": {
  "kernelspec": {
   "display_name": "Java",
   "language": "java",
   "name": "java"
  },
  "language_info": {
   "codemirror_mode": "java",
   "file_extension": ".jshell",
   "mimetype": "text/x-java-source",
   "name": "Java",
   "pygments_lexer": "java",
   "version": "11.0.17+8-post-Ubuntu-1ubuntu222.04"
  },
  "orig_nbformat": 4
 },
 "nbformat": 4,
 "nbformat_minor": 2
}
