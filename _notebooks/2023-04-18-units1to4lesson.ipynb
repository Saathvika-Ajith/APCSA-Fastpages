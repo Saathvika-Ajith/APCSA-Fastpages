{
 "cells": [
  {
   "cell_type": "markdown",
   "metadata": {},
   "source": [
    "# Units 1 to 4 Lesson\n",
    "\n",
    "- toc: true\n",
    "- badges: true\n",
    "- comments: true\n",
    "- categories: [fastpages, jupyter]"
   ]
  },
  {
   "attachments": {},
   "cell_type": "markdown",
   "metadata": {},
   "source": [
    "### The Car Class"
   ]
  },
  {
   "cell_type": "code",
   "execution_count": null,
   "metadata": {
    "vscode": {
     "languageId": "java"
    }
   },
   "outputs": [],
   "source": [
    "public class Car {\n",
    "    public static void main(String[] args) {\n",
    "        int year = 2023;\n",
    "        double price = 30000.00;\n",
    "        boolean isElectric = true;\n",
    "        \n",
    "        System.out.println(\"Year: \" + year);\n",
    "        System.out.println(\"Price: $\" + price);\n",
    "        System.out.println(\"Is Electric: \" + isElectric);\n",
    "    }\n",
    "}"
   ]
  },
  {
   "attachments": {},
   "cell_type": "markdown",
   "metadata": {},
   "source": [
    "### Arithmetic Operators"
   ]
  },
  {
   "cell_type": "code",
   "execution_count": null,
   "metadata": {
    "vscode": {
     "languageId": "java"
    }
   },
   "outputs": [],
   "source": [
    "import java.util.Scanner;\n",
    "\n",
    "public class CarPrice {\n",
    "    public static void main(String[] args) {\n",
    "        Scanner scanner = new Scanner(System.in);\n",
    "\n",
    "        System.out.print(\"Enter the price of the car: \");\n",
    "        double price = scanner.nextDouble();\n",
    "\n",
    "        System.out.println(\"The price of the car is $\" + price);\n",
    "\n",
    "        scanner.close();\n",
    "    }\n",
    "}"
   ]
  },
  {
   "attachments": {},
   "cell_type": "markdown",
   "metadata": {},
   "source": [
    "### Compound Operators"
   ]
  },
  {
   "cell_type": "code",
   "execution_count": null,
   "metadata": {
    "vscode": {
     "languageId": "java"
    }
   },
   "outputs": [],
   "source": [
    "int cars = 0; // starting number of cars\n",
    "int numCarsEntering = 2; // number of cars entering at a time\n",
    "int numIterations = 5; // number of times to loop\n",
    "\n",
    "for (int i = 0; i < numIterations; i++) {\n",
    "    cars += numCarsEntering; // use compound operator to add numCarsEntering to cars\n",
    "    System.out.println(\"Number of cars on highway: \" + cars);\n",
    "}"
   ]
  },
  {
   "attachments": {},
   "cell_type": "markdown",
   "metadata": {},
   "source": [
    "## Hack 1\n",
    "Make a code segment that calculates the number of wheels of x number of cars"
   ]
  },
  {
   "cell_type": "code",
   "execution_count": 2,
   "metadata": {
    "vscode": {
     "languageId": "java"
    }
   },
   "outputs": [
    {
     "name": "stdout",
     "output_type": "stream",
     "text": [
      "Enter the number of cars: 32\n",
      "The number of wheels is: 128\n"
     ]
    }
   ],
   "source": [
    "import java.util.Scanner;\n",
    "\n",
    "public class Hack1 {\n",
    "    public static void main(String[] args) {\n",
    "        \n",
    "        //calculate wheels\n",
    "        Scanner scanner = new Scanner(System.in);\n",
    "\n",
    "        System.out.print(\"Enter the number of cars: \");\n",
    "        int num = scanner.nextInt();\n",
    "        System.out.print(num+\"\\n\");\n",
    "\n",
    "        int wheels = num * 4;\n",
    "\n",
    "        System.out.println(\"The number of wheels is: \" + wheels);\n",
    "\n",
    "        scanner.close();\n",
    "\n",
    "    }\n",
    "}\n",
    "Hack1.main(null);"
   ]
  },
  {
   "attachments": {},
   "cell_type": "markdown",
   "metadata": {},
   "source": [
    "## Hack 2"
   ]
  },
  {
   "cell_type": "code",
   "execution_count": 27,
   "metadata": {
    "vscode": {
     "languageId": "java"
    }
   },
   "outputs": [
    {
     "name": "stdout",
     "output_type": "stream",
     "text": [
      "Make: Toyota, Model: Corolla, Year: 2022, Price: 24999.99, Used? false\n",
      "Make: Honda, Model: Accord, Year: 2018, Price: 18999.99, Used? true\n",
      "Make: Ford, Model: Mustang, Year: 2020, Price: 34999.99, Used? true\n"
     ]
    }
   ],
   "source": [
    "public class Car {\n",
    "\n",
    "    public static void main(String[] args) {\n",
    "        String[] make = {\"Toyota\", \"Honda\", \"Ford\"};\n",
    "        String[] model = {\"Corolla\", \"Accord\", \"Mustang\"};\n",
    "        int[] year = {2022, 2018, 2020, 2018};\n",
    "        double[] price = {24999.99, 18999.99, 34999.99};\n",
    "        boolean[] isUsed = {false, true, true};\n",
    "\n",
    "        for(int i = 0; i < make.length; i++) { \n",
    "            System.out.println(\"Make: \"+make[i]+\", Model: \"+model[i]+\", Year: \"+year[i]+\", Price: \"+price[i]+\", Used? \"+isUsed[i]);\n",
    "        }\n",
    "\n",
    "    }\n",
    "\n",
    "}\n",
    "Car.main(null);"
   ]
  },
  {
   "attachments": {},
   "cell_type": "markdown",
   "metadata": {},
   "source": [
    "### Boolean Expressions"
   ]
  },
  {
   "cell_type": "code",
   "execution_count": 28,
   "metadata": {
    "vscode": {
     "languageId": "java"
    }
   },
   "outputs": [
    {
     "name": "stdout",
     "output_type": "stream",
     "text": [
      "The car is moving fast!\n"
     ]
    }
   ],
   "source": [
    "boolean isEngineRunning = true;\n",
    "int speed = 60;\n",
    "boolean isSpeedAboveThreshold = speed > 50;\n",
    "\n",
    "if (isEngineRunning && isSpeedAboveThreshold) {\n",
    "    System.out.println(\"The car is moving fast!\");\n",
    "} else {\n",
    "    System.out.println(\"The car is not moving fast.\");\n",
    "}"
   ]
  },
  {
   "attachments": {},
   "cell_type": "markdown",
   "metadata": {},
   "source": [
    "## Hack 3"
   ]
  },
  {
   "cell_type": "code",
   "execution_count": 33,
   "metadata": {
    "vscode": {
     "languageId": "java"
    }
   },
   "outputs": [
    {
     "name": "stdout",
     "output_type": "stream",
     "text": [
      "Car Details:\n",
      "Toyota\n",
      "Camry\n",
      "2019\n",
      "25000.0\n",
      "\n",
      "The car is not affordable!\n",
      "\n",
      "The car is not a luxury car.\n"
     ]
    }
   ],
   "source": [
    "public class Car {\n",
    "    private String make;\n",
    "    private String model;\n",
    "    private int year;\n",
    "    private double price;\n",
    "    \n",
    "    // Constructor\n",
    "    public Car(String make, String model, int year, double price) {\n",
    "        this.make = make;\n",
    "        this.model = model;\n",
    "        this.year = year;\n",
    "        this.price = price;\n",
    "    }\n",
    "    \n",
    "    // Getter methods\n",
    "    public String getMake() {\n",
    "        return make;\n",
    "    }\n",
    "    \n",
    "    public String getModel() {\n",
    "        return model;\n",
    "    }\n",
    "    \n",
    "    public int getYear() {\n",
    "        return year;\n",
    "    }\n",
    "    \n",
    "    public double getPrice() {\n",
    "        return price;\n",
    "    }\n",
    "    \n",
    "    // Method to determine if the car is affordable or not\n",
    "    public boolean isAffordable(double budget) {\n",
    "        if (price <= budget) {\n",
    "            return true;\n",
    "        } else {\n",
    "            return false;\n",
    "        }\n",
    "    }\n",
    "    \n",
    "    // Main method\n",
    "    public static void main(String[] args) {\n",
    "        // Create a new Car object\n",
    "        Car car1 = new Car(\"Toyota\", \"Camry\", 2019, 25000.0);\n",
    "\n",
    "        // Print the car details\n",
    "        System.out.println(\"Car Details:\");\n",
    "        System.out.println(car1.getMake());\n",
    "        System.out.println(car1.getModel());\n",
    "        System.out.println(car1.getYear());\n",
    "        System.out.println(car1.getPrice()+\"\\n\");\n",
    "        \n",
    "        // Check if the car is affordable with a budget of $20000 using an if-else statement\n",
    "       if (car1.isAffordable(20000.0)) {\n",
    "        System.out.println(\"The car is affordable!\\n\");\n",
    "       } else {\n",
    "        System.out.println(\"The car is not affordable!\\n\");\n",
    "       }\n",
    "        // Check if the car is a luxury car based on its price using if-else-if statement\n",
    "       if (car1.price > 50000) {\n",
    "        System.out.println(\"The car is a luxury car.\");\n",
    "       } else {\n",
    "        System.out.println(\"The car is not a luxury car.\");\n",
    "       }\n",
    "\n",
    "    }\n",
    "}\n",
    "Car.main(null);"
   ]
  },
  {
   "attachments": {},
   "cell_type": "markdown",
   "metadata": {},
   "source": [
    "## Hack 4\n",
    "You are tasked with creating a program that allows a user to enter the number of cars they own, and then input the make and model of each car. The program will then print out the list of cars.\n",
    "\n",
    "Here are the specific requirements:\n",
    "\n",
    "- Use a try-catch statement to catch any input/output exceptions that may occur.\n",
    "- Use a while loop to ensure that the user enters a positive integer for the number of cars they own.\n",
    "- Use a for loop to iterate over each car and prompt the user to enter the make and model of the car."
   ]
  },
  {
   "cell_type": "code",
   "execution_count": 6,
   "metadata": {
    "vscode": {
     "languageId": "java"
    }
   },
   "outputs": [
    {
     "name": "stdout",
     "output_type": "stream",
     "text": [
      "Enter the number of cars you own: \n",
      "You own 2 cars!\n",
      "\n",
      "Let's make a list!\n",
      "\n",
      "Enter the make of your car: \n",
      "Enter the model of your car: \n",
      "You own a Ford Mustang!\n",
      "\n",
      "Enter the make of your car: \n",
      "Enter the model of your car: \n",
      "You own a Hyundai Palisade!\n",
      "\n",
      "Car #1: Ford Mustang  \n",
      "Car #2: Hyundai Palisade  \n"
     ]
    }
   ],
   "source": [
    "import java.util.Scanner;\n",
    "\n",
    "public class Car {\n",
    "    private String make;\n",
    "    private String model;\n",
    "    private static String customMake;\n",
    "    private static String customModel;\n",
    "    \n",
    "    // Constructor\n",
    "    public Car(String make, String model) {\n",
    "        this.make = make;\n",
    "        this.model = model;\n",
    "    }\n",
    "    \n",
    "    // Getter methods\n",
    "    public String getMake() {\n",
    "        return make;\n",
    "    }\n",
    "    \n",
    "    public String getModel() {\n",
    "        return model;\n",
    "    }\n",
    "    \n",
    "    \n",
    "    // Main method\n",
    "    public static void main(String[] args) {\n",
    "        \n",
    "        Scanner scanner = new Scanner(System.in);\n",
    "\n",
    "        System.out.println(\"Enter the number of cars you own: \");\n",
    "        int num = scanner.nextInt();\n",
    "        System.out.println(\"You own \"+num+\" cars!\\n\");\n",
    "\n",
    "        System.out.println(\"Let's make a list!\\n\");\n",
    "        String yes = scanner.nextLine();\n",
    "\n",
    "        while (num > 0) {\n",
    "            String carList[][] = new String[num][2];\n",
    "            for (int i = 0; i < num; i++) {\n",
    "                Car customCar = new Car(customMake, customModel);\n",
    "                \n",
    "                System.out.println(\"Enter the make of your car: \");\n",
    "                String customMake = scanner.nextLine();\n",
    "                System.out.println(\"Enter the model of your car: \");\n",
    "                String customModel = scanner.nextLine();\n",
    "                System.out.println(\"You own a \"+customMake+\" \"+customModel+\"!\\n\");\n",
    "\n",
    "                carList[i][0] = customMake;\n",
    "                carList[i][1] = customModel;\n",
    "            }\n",
    "\n",
    "            scanner.close();\n",
    "\n",
    "            for(int j = 0; j < carList.length; j++) {\n",
    "                System.out.print(\"Car #\"+(j+1)+\": \");\n",
    "                for(int k = 0; k < carList[0].length; k++) {\n",
    "                    System.out.print(carList[j][k] + \" \");\n",
    "                }\n",
    "                System.out.println(\" \");\n",
    "            }\n",
    "\n",
    "            num = 0;\n",
    "        }\n",
    "\n",
    "\n",
    "    }\n",
    "}\n",
    "Car.main(null);"
   ]
  },
  {
   "attachments": {},
   "cell_type": "markdown",
   "metadata": {},
   "source": [
    "## Extra Credit"
   ]
  },
  {
   "cell_type": "code",
   "execution_count": 5,
   "metadata": {
    "vscode": {
     "languageId": "java"
    }
   },
   "outputs": [
    {
     "name": "stdout",
     "output_type": "stream",
     "text": [
      "The cheaper car is: Toyota\n",
      "The acceleration is: 6 m/s^2\n"
     ]
    }
   ],
   "source": [
    "public class CarLab { // CarLab is a class that represents a car\n",
    "\n",
    "    private String name;\n",
    "\n",
    "    // Hack: add columns for other attributes, (ex total mileage, model, make of car) demonstrating knowledge of different data types\n",
    "\n",
    "    private double price;\n",
    "    \n",
    "    public CarLab(String name, double price) {\n",
    "        this.name = name;\n",
    "        this.price = price;\n",
    "        \n",
    "    }\n",
    "\n",
    "    public double getPrice() {\n",
    "        return price;\n",
    "    }\n",
    "\n",
    "    public String getName() {\n",
    "        return name;\n",
    "    }\n",
    "\n",
    "    public static String cheaperCar(String car1Name, double car1Price, String car2Name, double car2Price) {\n",
    "        CarLab car1 = new CarLab(car1Name, car1Price);\n",
    "        CarLab car2 = new CarLab(car2Name, car2Price);\n",
    "        \n",
    "        if (car1.getPrice() < car2.getPrice()) {\n",
    "            return car1.getName();\n",
    "        } else {\n",
    "            return car2.getName();\n",
    "        }\n",
    "    }\n",
    "    \n",
    "    public static String cheaperCar(CarLab car1, CarLab car2) { // Overloading the cheaperCar method to allow both String and CarLab objects to be passed in\n",
    "        if (car1.getPrice() < car2.getPrice()) {\n",
    "            return car1.getName();\n",
    "        } else {\n",
    "            return car2.getName();\n",
    "        }\n",
    "    }\n",
    "\n",
    "    // Hack: demonstrate another operation on a different data type\n",
    "\n",
    "    public static int acceleration(double s1, double s2, double time) {\n",
    "        return (Math.abs((int) ((s2 - s1) / time)));\n",
    "    }\n",
    "\n",
    "    public String toString() {\n",
    "        return( \"{\" + \n",
    "            \"\\\"name\\\": \" + name + \",\" +\n",
    "            \"\\\"price\\\": \" +  price +\n",
    "            \"}\" );\n",
    "    }\n",
    "\n",
    "    public static void main(String[] args) {\n",
    "        String cheaperCarName = cheaperCar(\"Toyota\", 20000.0, \"Honda\", 25000.0);\n",
    "        System.out.println(\"The cheaper car is: \" + cheaperCarName);\n",
    "\n",
    "        System.out.println(\"The acceleration is: \" + acceleration(0, 60, 10) + \" m/s^2\");\n",
    "    }\n",
    "}\n",
    "CarLab.main(null);"
   ]
  },
  {
   "cell_type": "code",
   "execution_count": 16,
   "metadata": {
    "vscode": {
     "languageId": "java"
    }
   },
   "outputs": [
    {
     "name": "stdout",
     "output_type": "stream",
     "text": [
      "The cheaper car is: Toyota\n",
      "The acceleration is: 6 m/s^2\n",
      "The car is sustainable: true\n",
      "The cheaper car with consideration to sustainability: Toyota is cheaper and more sustainable!\n"
     ]
    }
   ],
   "source": [
    "public class CarLab { // CarLab is a class that represents a car\n",
    "\n",
    "    private String name;\n",
    "\n",
    "    // Hack: add columns for other attributes, (ex total mileage, model, make of car) demonstrating knowledge of different data types\n",
    "\n",
    "    private double price;\n",
    "    private String make;\n",
    "    private String model;\n",
    "    private int mpg;\n",
    "    \n",
    "    public CarLab(String name, double price, String make, String model, int mpg) {\n",
    "        this.name = name;\n",
    "        this.price = price;\n",
    "        this.make = make;\n",
    "        this.model = model;\n",
    "        this.mpg = mpg;\n",
    "    }\n",
    "\n",
    "    public CarLab(String name, int mpg) {\n",
    "        this.name = name;\n",
    "        this.mpg = mpg;\n",
    "    }\n",
    "\n",
    "    public CarLab(String name, double price) {\n",
    "        this.name = name;\n",
    "        this.price = price;\n",
    "    }\n",
    "\n",
    "    public CarLab(String name, double price, int mpg) {\n",
    "        this.name = name;\n",
    "        this.price = price;\n",
    "        this.mpg = mpg;\n",
    "    }\n",
    "\n",
    "    public double getPrice() {\n",
    "        return price;\n",
    "    }\n",
    "\n",
    "    public String getName() {\n",
    "        return name;\n",
    "    }\n",
    "\n",
    "    public String getMake() {\n",
    "        return make;\n",
    "    }\n",
    "    \n",
    "    public String getModel() {\n",
    "        return model;\n",
    "    }\n",
    "\n",
    "    public int getMpg() {\n",
    "        return mpg;\n",
    "    }\n",
    "\n",
    "    public static String cheaperCar(String car1Name, double car1Price, String car2Name, double car2Price) {\n",
    "        CarLab car1 = new CarLab(car1Name, car1Price);\n",
    "        CarLab car2 = new CarLab(car2Name, car2Price);\n",
    "        \n",
    "        if (car1.getPrice() < car2.getPrice()) {\n",
    "            return car1.getName();\n",
    "        } else {\n",
    "            return car2.getName();\n",
    "        }\n",
    "    }\n",
    "\n",
    "    public static boolean isSustainable(String car5Name, int car5Mpg) {\n",
    "        CarLab car5 = new CarLab(car5Name, car5Mpg);\n",
    "        return (car5.getMpg() > 40);\n",
    "    }\n",
    "\n",
    "    public static String cheaperSustainableCar(String car3Name, double car3Price, int car3Mpg, String car4Name, double car4Price, int car4Mpg) {\n",
    "        CarLab car3 = new CarLab(car3Name, car3Price, car3Mpg);\n",
    "        CarLab car4 = new CarLab(car4Name, car4Price, car4Mpg);\n",
    "            if (car3.getPrice() < car4.getPrice()) {\n",
    "                if (car3.getMpg() < car4.getMpg()) {\n",
    "                    return (car3.getName() + \" is cheaper but less sustainable!\");\n",
    "                } else {\n",
    "                    return (car3.getName() + \" is cheaper and more sustainable!\");\n",
    "                }\n",
    "            } else {\n",
    "                if (car3.getMpg() < car4.getMpg()) {\n",
    "                    return (car4.getName() + \" is cheaper and more sustainable!\");\n",
    "                } else {\n",
    "                    return (car4.getName() + \" is cheaper but less sustainable!\");\n",
    "                }\n",
    "            }\n",
    "    }\n",
    "    \n",
    "    public static String cheaperCar(CarLab car1, CarLab car2) { // Overloading the cheaperCar method to allow both String and CarLab objects to be passed in\n",
    "        if (car1.getPrice() < car2.getPrice()) {\n",
    "            return car1.getName();\n",
    "        } else {\n",
    "            return car2.getName();\n",
    "        }\n",
    "    }\n",
    "\n",
    "    // Hack: demonstrate another operation on a different data type\n",
    "\n",
    "    public static int acceleration(double s1, double s2, double time) {\n",
    "        return (Math.abs((int) ((s2 - s1) / time)));\n",
    "    }\n",
    "\n",
    "    public String toString() {\n",
    "        return( \"{\" + \n",
    "            \"\\\"name\\\": \" + name + \",\" +\n",
    "            \"\\\"price\\\": \" +  price +\n",
    "            \"}\" );\n",
    "    }\n",
    "\n",
    "    public static void main(String[] args) {\n",
    "        String cheaperCarName = cheaperCar(\"Toyota\", 20000.0, \"Honda\", 25000.0);\n",
    "        System.out.println(\"The cheaper car is: \" + cheaperCarName);\n",
    "\n",
    "        System.out.println(\"The acceleration is: \" + acceleration(0, 60, 10) + \" m/s^2\");\n",
    "\n",
    "        System.out.println(\"The car is sustainable: \" + isSustainable(\"Palisade\", 60));\n",
    "\n",
    "        String cheaperSustainableCar = cheaperSustainableCar(\"Toyota\", 20000.0, 56, \"Honda\", 25000.0, 43);\n",
    "        System.out.println(\"The cheaper car with consideration to sustainability: \" + cheaperSustainableCar);\n",
    "    }\n",
    "}\n",
    "CarLab.main(null);"
   ]
  }
 ],
 "metadata": {
  "kernelspec": {
   "display_name": "Java",
   "language": "java",
   "name": "java"
  },
  "language_info": {
   "codemirror_mode": "java",
   "file_extension": ".jshell",
   "mimetype": "text/x-java-source",
   "name": "Java",
   "pygments_lexer": "java",
   "version": "11.0.17+8-post-Ubuntu-1ubuntu222.04"
  },
  "orig_nbformat": 4
 },
 "nbformat": 4,
 "nbformat_minor": 2
}
