{
 "cells": [
  {
   "cell_type": "markdown",
   "metadata": {},
   "source": [
    "# FRQ Type 1\n",
    "\n",
    "- toc: true\n",
    "- badges: true\n",
    "- comments: true\n",
    "- categories: [fastpages, jupyter]"
   ]
  },
  {
   "cell_type": "markdown",
   "metadata": {},
   "source": [
    "#### 2019 AP® COMPUTER SCIENCE A FREE-RESPONSE QUESTIONS\n",
    "##### This question involves reasoning about a simulation of a frog hopping in a straight line. The frog attempts to hop to a goal within a specified number of hops. The simulation is encapsulated in the following FrogSimulation class. You will write two of the methods in this class. "
   ]
  },
  {
   "cell_type": "code",
   "execution_count": 9,
   "metadata": {
    "vscode": {
     "languageId": "java"
    }
   },
   "outputs": [
    {
     "ename": "CompilationException",
     "evalue": "",
     "output_type": "error",
     "traceback": [
      "\u001b[1m\u001b[30m|   \u001b[1m\u001b[30m\u001b[0m\u001b[1m\u001b[30m\u001b[41m{ /* implementation not shown */ }\u001b[0m\u001b[1m\u001b[30m\u001b[0m",
      "\u001b[1m\u001b[31mmissing return statement\u001b[0m",
      "",
      "\u001b[1m\u001b[30m|   \u001b[1m\u001b[30m\u001b[0m\u001b[1m\u001b[30m\u001b[41m{ /* to be implemented in part (a) */ }\u001b[0m\u001b[1m\u001b[30m\u001b[0m",
      "\u001b[1m\u001b[31mmissing return statement\u001b[0m",
      "",
      "\u001b[1m\u001b[30m|   \u001b[1m\u001b[30m\u001b[0m\u001b[1m\u001b[30m\u001b[41m{ /* to be implemented in part (b) */ }\u001b[0m\u001b[1m\u001b[30m\u001b[0m",
      "\u001b[1m\u001b[31mmissing return statement\u001b[0m",
      ""
     ]
    }
   ],
   "source": [
    "public class FrogSimulation\n",
    "{\n",
    "/** Distance, in inches, from the starting position to the goal. */\n",
    "private int goalDistance;\n",
    "/** Maximum number of hops allowed to reach the goal. */\n",
    " private int maxHops;\n",
    "/** Constructs a FrogSimulation where dist is the distance, in inches, from the starting\n",
    "* position to the goal, and numHops is the maximum number of hops allowed to reach the goal.\n",
    "* Precondition: dist > 0; numHops > 0\n",
    "*/\n",
    " public FrogSimulation(int dist, int numHops)\n",
    "{\n",
    "goalDistance = dist;\n",
    "maxHops = numHops;\n",
    "}\n",
    "/** Returns an integer representing the distance, in inches, to be moved when the frog hops.\n",
    " */\n",
    "private int hopDistance()\n",
    "{ /* implementation not shown */ }\n",
    "/** Simulates a frog attempting to reach the goal as described in part (a).\n",
    "* Returns true if the frog successfully reached or passed the goal during the simulation;\n",
    "* false otherwise.\n",
    "*/\n",
    " public boolean simulate()\n",
    "{ /* to be implemented in part (a) */ }\n",
    " /** Runs num simulations and returns the proportion of simulations in which the frog\n",
    "* successfully reached or passed the goal.\n",
    "* Precondition: num > 0\n",
    "*/\n",
    " public double runSimulations(int num)\n",
    "{ /* to be implemented in part (b) */ }\n",
    "} \n",
    "FrogSimulation.main(null);"
   ]
  },
  {
   "cell_type": "markdown",
   "metadata": {},
   "source": [
    "a)\n",
    "- Write the simulate method, which simulates the frog attempting to hop in a straight line to a goal from the frog's starting position of 0 within a maximum number of hops. The method returns true if the frog successfully reached the goal within the maximum number of hops; otherwise, the method returns false.\n",
    "- The FrogSimulation class provides a method called hopDistance that returns an integer representing the distance (positive or negative) to be moved when the frog hops. A positive distance represents a move toward the goal. A negative distance represents a move away from the goal. The returned distance may vary from call to call. Each time the frog hops, its position is adjusted by the value returned by a call to the hopDistance method.\n",
    "- The frog hops until one of the following conditions becomes true: \n",
    "  - The frog has reached or passed the goal.\n",
    "  - The frog has reached a negative position.\n",
    "  - The frog has taken the maximum number of hops without reaching the goal.\n",
    "- The following example shows a declaration of a FrogSimulation object for which the goal distance is 24 inches and the maximum number of hops is 5. The table shows some possible outcomes of calling the simulate method. "
   ]
  },
  {
   "cell_type": "code",
   "execution_count": null,
   "metadata": {
    "vscode": {
     "languageId": "java"
    }
   },
   "outputs": [],
   "source": [
    "FrogSimulation sim = new FrogSimulation(24, 5);\n",
    "\n",
    "Values returned by | Final position | Return value of\n",
    "hopDistance()      | of frog        | sim.simulate()\n",
    "Example 1: 5, 7, -2, 8, 6   | 24    | true\n",
    "Example 2: 6, 7, 6, 6       | 25    | true\n",
    "Example 3: 6, -6, 31        | 31    | true\n",
    "Example 4: 4, 2, -8         | -2    | false\n",
    "Example 5: 5, 4, 2, 4, 3    | 18    | false "
   ]
  },
  {
   "cell_type": "markdown",
   "metadata": {},
   "source": [
    "- Complete method simulate below. You must use hopDistance appropriately to receive full credit.\n"
   ]
  },
  {
   "cell_type": "code",
   "execution_count": 7,
   "metadata": {
    "vscode": {
     "languageId": "java"
    }
   },
   "outputs": [],
   "source": [
    "/** Simulates a frog attempting to reach the goal as described in part (a).\n",
    "* Returns true if the frog successfully reached or passed the goal during the simulation;\n",
    "* false otherwise.\n",
    "*/\n",
    " public boolean simulate() {\n",
    "    int position = 0; // frog starts at 0\n",
    "    for (int count = 0; count < maxHops; count++) { // maxHops is the max the frog can hop, and after each hop the count goes up by one, the loop repeating until count = maxHops\n",
    "        position += hopDistance();\n",
    "        if (position >= goalDistance) { // if the frog goes farther than needed, return true\n",
    "            return true;\n",
    "        }\n",
    "        else if (position < 0) { // if the frog isn't there, return false and keep going\n",
    "            return false;\n",
    "        }\n",
    "    }\n",
    "    return false; // if the hops are taken up without the goal being met, it returns false\n",
    "}"
   ]
  },
  {
   "cell_type": "markdown",
   "metadata": {},
   "source": [
    "(b) \n",
    "- Write the runSimulations method, which performs a given number of simulations and returns the proportion of simulations in which the frog successfully reached or passed the goal. For example, if the parameter passed to runSimulations is 400, and 100 of the 400 simulate method calls returned true, then the runSimulations method should return 0.25. \n",
    "- Complete method runSimulations below. Assume that simulate works as specified, regardless of what you wrote in part (a). You must use simulate appropriately to receive full credit."
   ]
  },
  {
   "cell_type": "code",
   "execution_count": 10,
   "metadata": {
    "vscode": {
     "languageId": "java"
    }
   },
   "outputs": [],
   "source": [
    " /** Runs num simulations and returns the proportion of simulations in which the frog\n",
    "* successfully reached or passed the goal.\n",
    "* Precondition: num > 0\n",
    "*/\n",
    "public double runSimulations(int num) { // double makes it so the value can be a decimal\n",
    "    int countSuccess = 0; // starts at 0\n",
    "    for (int count = 0; count < num; count++) { // checks if the simulation was successful for each time it was run\n",
    "        if(simulate()) { // if it turns out true, raise the count of the number of successful runs\n",
    "            countSuccess++;\n",
    "        }\n",
    "    }\n",
    "    return (double)countSuccess / num; // divides the number of successes to the overall amount of simulations to find the final result\n",
    "} "
   ]
  }
 ],
 "metadata": {
  "kernelspec": {
   "display_name": "Java",
   "language": "java",
   "name": "java"
  },
  "language_info": {
   "codemirror_mode": "java",
   "file_extension": ".jshell",
   "mimetype": "text/x-java-source",
   "name": "Java",
   "pygments_lexer": "java",
   "version": "11.0.16+8-post-Ubuntu-0ubuntu120.04"
  },
  "orig_nbformat": 4,
  "vscode": {
   "interpreter": {
    "hash": "916dbcbb3f70747c44a77c7bcd40155683ae19c65e1c03b4aa3499c5328201f1"
   }
  }
 },
 "nbformat": 4,
 "nbformat_minor": 2
}
