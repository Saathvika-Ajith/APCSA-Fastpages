{
 "cells": [
  {
   "attachments": {},
   "cell_type": "markdown",
   "metadata": {},
   "source": [
    "# JavaScript Checkout\n",
    "\n",
    "- toc: true\n",
    "- badges: true\n",
    "- comments: true\n",
    "- categories: [fastpages, jupyter]"
   ]
  },
  {
   "attachments": {},
   "cell_type": "markdown",
   "metadata": {},
   "source": [
    "## Text Adventure Game Dialogue\n",
    "### Set Up"
   ]
  },
  {
   "cell_type": "code",
   "execution_count": null,
   "metadata": {
    "vscode": {
     "languageId": "javascript"
    }
   },
   "outputs": [],
   "source": [
    "// accesses html elements\n",
    "const textElement = document.getElementById('text')\n",
    "const optionButtonsElement = document.getElementById('option-buttons')\n",
    "\n",
    "let state = {} // some options will result in modifications to character state\n",
    "\n",
    "// start or restart function, sets html to first dialogue node\n",
    "function startGame() {\n",
    "  state = {}\n",
    "  showTextNode(1)\n",
    "}"
   ]
  },
  {
   "attachments": {},
   "cell_type": "markdown",
   "metadata": {},
   "source": [
    "### Display Options"
   ]
  },
  {
   "cell_type": "code",
   "execution_count": null,
   "metadata": {
    "vscode": {
     "languageId": "javascript"
    }
   },
   "outputs": [],
   "source": [
    "function showTextNode(textNodeIndex) {\n",
    "    state.currentNode = textNodeIndex; // Store the current node id in the state object\n",
    "    const textNode = textNodes.find(textNode => textNode.id === textNodeIndex) // makes sure text node id updates as you move nodes\n",
    "    textElement.innerText = textNode.text // displays the text of the node on the html\n",
    "    // there can be a max of three option choices, if there are less listed in the node then the html element will not display\n",
    "    while (optionButtonsElement.firstChild) {\n",
    "      optionButtonsElement.removeChild(optionButtonsElement.firstChild)\n",
    "    }\n",
    "  \n",
    "    // sets up option buttons and inputs the node text in the html element\n",
    "    textNode.options.forEach(option => {\n",
    "      if (showOption(option)) {\n",
    "        const button = document.createElement('button')\n",
    "        button.innerText = option.text\n",
    "        button.classList.add('btn')\n",
    "        button.addEventListener('click', () => selectOption(option)) // registers the user input of which option is clicked\n",
    "        optionButtonsElement.appendChild(button)\n",
    "      }\n",
    "    })\n",
    "  }\n",
    "  \n",
    "  // some options only show up if the user's state has been altered by a certain action\n",
    "  function showOption(option) {\n",
    "    return option.requiredState == null || option.requiredState(state)\n",
    "  }"
   ]
  },
  {
   "attachments": {},
   "cell_type": "markdown",
   "metadata": {},
   "source": [
    "### Select an Option"
   ]
  },
  {
   "cell_type": "code",
   "execution_count": null,
   "metadata": {
    "vscode": {
     "languageId": "javascript"
    }
   },
   "outputs": [],
   "source": [
    "// Modifies the `selectOption` function\n",
    "function selectOption(option) {\n",
    "    const nextTextNodeId = option.nextText;\n",
    "    \n",
    "    if (nextTextNodeId <= 0) { // if the user clicks an option labeled Restart then the game will run again from the beginning\n",
    "      return startGame();\n",
    "    }\n",
    "    \n",
    "    if (option.previousText === true) { // if the user clicks an option labeled Go Back then the game will go back to the previous text node the user had viewed\n",
    "      previous(); // Call the previous function directly\n",
    "      return;\n",
    "    }\n",
    "    \n",
    "    state = Object.assign(state, option.setState); // if an answer choice modifies the state of the user it will be put into place here\n",
    "\n",
    "    showTextNode(nextTextNodeId);\n",
    "  }"
   ]
  },
  {
   "attachments": {},
   "cell_type": "markdown",
   "metadata": {},
   "source": [
    "### Go Back to Previous Node"
   ]
  },
  {
   "cell_type": "code",
   "execution_count": null,
   "metadata": {
    "vscode": {
     "languageId": "javascript"
    }
   },
   "outputs": [],
   "source": [
    "function previous() {\n",
    "    const previousTextNodeId = findPreviousTextNodeId(state.currentNode); // Pass the current node id\n",
    "    showTextNode(previousTextNodeId); // shows the last node viewer viewed\n",
    "  }\n",
    "  \n",
    "  // Modifies the `findPreviousTextNodeId` function\n",
    "  function findPreviousTextNodeId(textNodeIndex) {\n",
    "    const previousTextNode = textNodes.find(node =>\n",
    "      node.options && node.options.some(option => option.nextText === textNodeIndex) // finds and saves the id of the last node the viewer viewed\n",
    "    );\n",
    "  \n",
    "    return previousTextNode ? previousTextNode.id : -1; // Updates the default value to -1\n",
    "  }"
   ]
  },
  {
   "attachments": {},
   "cell_type": "markdown",
   "metadata": {},
   "source": [
    "### Dialogue Content"
   ]
  },
  {
   "cell_type": "code",
   "execution_count": null,
   "metadata": {
    "vscode": {
     "languageId": "javascript"
    }
   },
   "outputs": [],
   "source": [
    "const textNodes = [\n",
    "    {\n",
    "      id: 1,\n",
    "      text: 'What\\'s this, you want to challenge me on my Java knowledge of Unit 1: Primitive Types? \\n\\n(Marlene will ask you two conceptual questions and explain several concepts. Pay close attention as they will be useful to you later on. Estimated time: 10 minutes.)',\n",
    "      options: [\n",
    "        {\n",
    "          text: 'Yes, It\\'ll be an equal exchange.',\n",
    "          nextText: 2\n",
    "        },\n",
    "        {\n",
    "          text: 'I heard you were the best in the class on this unit.',\n",
    "          nextText: 2\n",
    "        }\n",
    "      ]\n",
    "    },\n",
    "    {\n",
    "        id: 3,\n",
    "        text: 'Tell me some key characteristic of Primitives Data Types.',\n",
    "        options: [\n",
    "          {\n",
    "            text: 'Primitives are predefined, can be null, can call methods, and have all the same sizes.',\n",
    "            nextText: 10\n",
    "          },\n",
    "          {\n",
    "            text: 'Primitives are predefined, always have a value, can\\'t call methods, and have type dependent sizes.',\n",
    "            nextText: 4\n",
    "          },\n",
    "          {\n",
    "            text: 'Primitives are defined by you, can be null, can call methods, and have type dependent sizes.',\n",
    "            nextText: 10\n",
    "          }\n",
    "        ]\n",
    "      },\n",
    "      {\n",
    "        id: 10,\n",
    "        text: 'That\\'s not quite right. Try Again.',\n",
    "        options: [\n",
    "          {\n",
    "            text: 'Go Back',\n",
    "            previousText: true\n",
    "          },\n",
    "          {\n",
    "            text: 'Restart',\n",
    "            nextText: -1\n",
    "          }\n",
    "        ]\n",
    "      }\n",
    "]"
   ]
  }
 ],
 "metadata": {
  "kernelspec": {
   "display_name": "Java",
   "language": "java",
   "name": "java"
  },
  "language_info": {
   "codemirror_mode": "java",
   "file_extension": ".jshell",
   "mimetype": "text/x-java-source",
   "name": "java",
   "pygments_lexer": "java",
   "version": "11.0.17+8-post-Ubuntu-1ubuntu222.04"
  },
  "orig_nbformat": 4
 },
 "nbformat": 4,
 "nbformat_minor": 2
}
