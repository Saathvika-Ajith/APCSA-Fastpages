{
 "cells": [
  {
   "attachments": {},
   "cell_type": "markdown",
   "metadata": {},
   "source": [
    "# Extra Credit FRQs\n",
    "\n",
    "- toc: true\n",
    "- badges: true\n",
    "- comments: true\n",
    "- categories: [fastpages, jupyter]"
   ]
  },
  {
   "attachments": {},
   "cell_type": "markdown",
   "metadata": {},
   "source": [
    "## FRQs - Methods and Control Structures\n",
    "### Question 3\n",
    "part a)"
   ]
  },
  {
   "cell_type": "code",
   "execution_count": null,
   "metadata": {
    "vscode": {
     "languageId": "java"
    }
   },
   "outputs": [],
   "source": [
    "/** Precondition: n is between 1 and 12, inclusive.\n",
    "* Returns the factorial of n, as described in part (a).\n",
    "*/\n",
    "\n",
    "public static int factorial(int n) { // incorrect way of doing it\n",
    "    n *= (n - 1);\n",
    "    n--;\n",
    "    if ( n > 1) {\n",
    "        factorial(n);\n",
    "    } else {\n",
    "        return n;\n",
    "    }\n",
    "}"
   ]
  },
  {
   "attachments": {},
   "cell_type": "markdown",
   "metadata": {},
   "source": [
    "part b)"
   ]
  },
  {
   "cell_type": "code",
   "execution_count": null,
   "metadata": {
    "vscode": {
     "languageId": "java"
    }
   },
   "outputs": [],
   "source": [
    "/** Precondition: n and r are between 1 and 12, inclusive.\n",
    "* Determines the number of ways r items can be selected\n",
    "* from n choices and prints the result, as described in part (b).\n",
    "*/\n",
    "\n",
    "public static void numCombinations(int n, int r) { // correct\n",
    "    int w = 0;\n",
    "    if ( r > n) {\n",
    "        return (\"There are \" + w + \" ways of choosing \" + n + \" items from \" + r + \" choices.\");\n",
    "    } else {\n",
    "        w = (factorial(n)) / ((factorial(r)) * (n - r));\n",
    "        return (\"There are \" + w + \" ways of choosing \" + n + \" items from \" + r + \" choices.\");\n",
    "    }\n",
    "}"
   ]
  },
  {
   "attachments": {},
   "cell_type": "markdown",
   "metadata": {},
   "source": [
    "running result"
   ]
  },
  {
   "cell_type": "code",
   "execution_count": 28,
   "metadata": {
    "vscode": {
     "languageId": "java"
    }
   },
   "outputs": [
    {
     "name": "stdout",
     "output_type": "stream",
     "text": [
      "Factorial of 7 : 5040\n",
      "Combination of 8 and 4 : There are 420 ways of choosing 8 items from 4 choices.\n"
     ]
    }
   ],
   "source": [
    "public class Tester {\n",
    "    \n",
    "    public static int factorial(int n) { // my factorial code was wrong and would not run\n",
    "        if (n >= 1 && n <=12) {\n",
    "            if (n==1) {\n",
    "                return 1;\n",
    "            } else {\n",
    "                return n * factorial(n-1);\n",
    "            }\n",
    "        } else {\n",
    "        return -1;\n",
    "        }\n",
    "    }\n",
    "\n",
    "    public static String numCombinations(int n, int r) { // this method runs correctly\n",
    "        int w = 0;\n",
    "        if ( r > n) {\n",
    "            return (\"There are \" + w + \" ways of choosing \" + n + \" items from \" + r + \" choices.\");\n",
    "        } else {\n",
    "            w = (factorial(n)) / ((factorial(r)) * (n - r));\n",
    "            return (\"There are \" + w + \" ways of choosing \" + n + \" items from \" + r + \" choices.\");\n",
    "        }\n",
    "    }\n",
    "    \n",
    "    public static void main(String args[]) {\n",
    "        System.out.println(\"Factorial of 7 : \" + factorial(7));\n",
    "        System.out.println(\"Combination of 8 and 4 : \" + numCombinations(8, 4));\n",
    "        \n",
    "    }\n",
    "}\n",
    "Tester.main(null);"
   ]
  },
  {
   "attachments": {},
   "cell_type": "markdown",
   "metadata": {},
   "source": [
    "## FRQs - Class\n",
    "### Question 3"
   ]
  },
  {
   "cell_type": "code",
   "execution_count": null,
   "metadata": {
    "vscode": {
     "languageId": "java"
    }
   },
   "outputs": [],
   "source": [
    "public class MultPractice implements StudyPractice { //+1\n",
    "    \n",
    "    private int n1;\n",
    "    private int n2; //+1\n",
    "\n",
    "    public MultPractice (int n1, int n2) { //+2\n",
    "        this.n1 = n1;\n",
    "        this.n2 = n2;\n",
    "    }\n",
    "\n",
    "    public String getProblem() { //+3\n",
    "        return (n1 + \" TIMES \" + n2);\n",
    "    }\n",
    "\n",
    "    public void nextProblem() { //+2\n",
    "        n2++;\n",
    "    }\n",
    "\n",
    "    public static void main(String args[]) {\n",
    "        StudyPractice p2 = new MultPractice(3, 4);\n",
    "        System.out.println(p2.getProblem());\n",
    "    }\n",
    "    \n",
    "}\n",
    "// 9/9!"
   ]
  },
  {
   "attachments": {},
   "cell_type": "markdown",
   "metadata": {},
   "source": [
    "running result"
   ]
  },
  {
   "cell_type": "code",
   "execution_count": 35,
   "metadata": {
    "vscode": {
     "languageId": "java"
    }
   },
   "outputs": [
    {
     "name": "stdout",
     "output_type": "stream",
     "text": [
      "3 TIMES 4\n",
      "3 TIMES 5\n"
     ]
    }
   ],
   "source": [
    "public class MultPractice {\n",
    "    \n",
    "    private int n1;\n",
    "    private int n2;\n",
    "\n",
    "    public MultPractice (int n1, int n2) {\n",
    "        this.n1 = n1;\n",
    "        this.n2 = n2;\n",
    "    }\n",
    "\n",
    "    public String getProblem() {\n",
    "        return (n1 + \" TIMES \" + n2);\n",
    "    }\n",
    "\n",
    "    public void nextProblem() {\n",
    "        n2++;\n",
    "    }\n",
    "\n",
    "    public static void main(String args[]) {\n",
    "        MultPractice p2 = new MultPractice(3, 4);\n",
    "        System.out.println(p2.getProblem());\n",
    "        p2.nextProblem();\n",
    "        System.out.println(p2.getProblem());\n",
    "    }\n",
    "    \n",
    "}\n",
    "MultPractice.main(null);"
   ]
  },
  {
   "attachments": {},
   "cell_type": "markdown",
   "metadata": {},
   "source": [
    "## FRQs - Arrays, ArrayLists\n",
    "### Question 3\n",
    "part a)"
   ]
  },
  {
   "cell_type": "code",
   "execution_count": null,
   "metadata": {
    "vscode": {
     "languageId": "java"
    }
   },
   "outputs": [],
   "source": [
    "public static int[] getCubeTosses(NumberCube cube, int numTosses) {\n",
    "    int[] values = new int[numTosses]; //+1\n",
    "    for (int i = 0; i < values.length; i++) {\n",
    "        values[i] = cube.toss(); //+2.5\n",
    "    }\n",
    "    return values; //+0.5\n",
    "}\n",
    "// 4/4!"
   ]
  },
  {
   "attachments": {},
   "cell_type": "markdown",
   "metadata": {},
   "source": [
    "part b)"
   ]
  },
  {
   "cell_type": "code",
   "execution_count": null,
   "metadata": {
    "vscode": {
     "languageId": "java"
    }
   },
   "outputs": [],
   "source": [
    "public static int getLongestRun(int[] values) {\n",
    "    int counter = 0;\n",
    "    int finalCounter = 0;\n",
    "    for (int i = 0; i < values.length; i++) { //+0.5, accesses but out of bound potential\n",
    "        if (values[i] == values[i + 1]) { //+1\n",
    "            counter++;\n",
    "        } else {\n",
    "            if (counter > finalCounter) {\n",
    "                finalCounter = counter; //+1\n",
    "            }\n",
    "            counter = 0;\n",
    "        }\n",
    "        \n",
    "    } \n",
    "    if (finalCounter == 0) {\n",
    "        return -1;\n",
    "    } else {\n",
    "        return finalCounter; //+2\n",
    "    }\n",
    "}\n",
    "// 4.5/5!"
   ]
  },
  {
   "attachments": {},
   "cell_type": "markdown",
   "metadata": {},
   "source": [
    "running result"
   ]
  },
  {
   "cell_type": "code",
   "execution_count": 94,
   "metadata": {
    "vscode": {
     "languageId": "java"
    }
   },
   "outputs": [
    {
     "name": "stdout",
     "output_type": "stream",
     "text": [
      "The Generated Tosses Array: 3 2 6 5 5 2 1 6 3 6 6 6 5 3 2 5 3 \n",
      "The Longest Run Number: 3\n",
      "\n"
     ]
    }
   ],
   "source": [
    "import java.util.*;\n",
    "\n",
    "public class NumberCube {\n",
    "    \n",
    "    private int numTosses;\n",
    "    \n",
    "    public NumberCube()  { }\n",
    "\n",
    "    public int toss() {\n",
    "        return ((int) (Math.random() * 6) + 1);\n",
    "    }\n",
    "\n",
    "    public int getNumTosses() {\n",
    "        return numTosses;\n",
    "    }\n",
    "\n",
    "    public static int[] getCubeTossesArr(NumberCube cube, int numTosses) {\n",
    "        int[] values = new int[numTosses]; //+1\n",
    "        for (int i = 0; i < values.length; i++) {\n",
    "            values[i] = cube.toss(); //+2.5\n",
    "        }\n",
    "        return values; //+0.5\n",
    "    }\n",
    "\n",
    "    public static String getCubeTosses(NumberCube cube, int numTosses) {\n",
    "        int[] values = new int[numTosses]; //+1\n",
    "        for (int i = 0; i < values.length; i++) {\n",
    "            values[i] = cube.toss(); //+2.5\n",
    "        }\n",
    "\n",
    "        System.out.print(\"The Generated Tosses Array: \");\n",
    "\n",
    "        for (int i = 0; i < values.length; i++) {\n",
    "            System.out.print(values[i] + \" \");\n",
    "        }\n",
    "\n",
    "        System.out.println(\"\\nThe Longest Run Number: \" + getLongestRun(values));\n",
    "\n",
    "        return (\"\"); //+0.5\n",
    "    }\n",
    "\n",
    "    public static int getLongestRun(int[] values) {\n",
    "        int counter = 1;\n",
    "        int finalCounter = 0;\n",
    "        for (int i = 0; i < values.length-1; i++) { \n",
    "            if (values[i] == values[i + 1]) { //+1\n",
    "                counter++;\n",
    "            } else {\n",
    "                if (counter > finalCounter) {\n",
    "                    finalCounter = counter; //+1\n",
    "                }\n",
    "                counter = 1;\n",
    "            }\n",
    "            \n",
    "        } \n",
    "        if (finalCounter == 0) {\n",
    "            return -1;\n",
    "        } else {\n",
    "            return finalCounter; //+2\n",
    "        }\n",
    "    }\n",
    "\n",
    "    public static void main(String args[]) {\n",
    "        NumberCube cube1 = new NumberCube();\n",
    "        System.out.println(getCubeTosses(cube1, 17));\n",
    "    }\n",
    "\n",
    "}\n",
    "NumberCube.main(null);"
   ]
  },
  {
   "attachments": {},
   "cell_type": "markdown",
   "metadata": {},
   "source": [
    "## FRQs 2D Array\n",
    "### Question 3\n",
    "part a)"
   ]
  },
  {
   "cell_type": "code",
   "execution_count": null,
   "metadata": {
    "vscode": {
     "languageId": "java"
    }
   },
   "outputs": [],
   "source": [
    "public static int diagonalOp(int[][] matA, int[][] matB) { // done correctly! \n",
    "    int sum = 0;\n",
    "    for (int i = 0; i < matA.length; i++) {\n",
    "        sum += (matA[i][i] * matB[i][i]);\n",
    "    }\n",
    "    return sum;\n",
    "}"
   ]
  },
  {
   "attachments": {},
   "cell_type": "markdown",
   "metadata": {},
   "source": [
    "part b)"
   ]
  },
  {
   "cell_type": "code",
   "execution_count": null,
   "metadata": {
    "vscode": {
     "languageId": "java"
    }
   },
   "outputs": [],
   "source": [
    "public static int[][] expandMatrix(int[][] matA) { // almost but incorrect\n",
    "    int[][] matB = new int[matA.length * 2][matA[0].length * 2];\n",
    "    for (int i = 0; i < matB.length; i += 2) { // out of bounds error\n",
    "        for (int j = 0; j < matB[0].length; j += 2) {\n",
    "            matB[i][j] = matA[i][j]; //incorrect implementation, needs to be * 2 for all\n",
    "            matB[i + 1][j] = matA[i][j];\n",
    "            matB[i][j + 1] = matA[i][j];\n",
    "            matB[i + 1][j + 1] = matA[i][j];\n",
    "        }\n",
    "    }\n",
    "    return matB;\n",
    "}"
   ]
  },
  {
   "attachments": {},
   "cell_type": "markdown",
   "metadata": {},
   "source": [
    "running result"
   ]
  },
  {
   "cell_type": "code",
   "execution_count": 129,
   "metadata": {
    "vscode": {
     "languageId": "java"
    }
   },
   "outputs": [
    {
     "name": "stdout",
     "output_type": "stream",
     "text": [
      "Diagonal Sum: 58\n",
      "\n",
      "Expanded Form: \n",
      "4 4 5 5 6 6  \n",
      "4 4 5 5 6 6  \n",
      "1 1 2 2 3 3  \n",
      "1 1 2 2 3 3  \n",
      "4 4 5 5 6 6  \n",
      "4 4 5 5 6 6  \n",
      " \n"
     ]
    }
   ],
   "source": [
    "import java.util.*;\n",
    "\n",
    "public class Tester {\n",
    "    \n",
    "    public static int diagonalOp(int[][] matA, int[][] matB) {\n",
    "        int sum = 0;\n",
    "        for (int i = 0; i < matA.length; i++) {\n",
    "            sum += (matA[i][i] * matB[i][i]);\n",
    "        }\n",
    "        return sum;\n",
    "    }\n",
    "\n",
    "    public static String expandMatrix(int[][] matA) {\n",
    "        int[][] matB = new int[matA.length * 2][matA[0].length * 2];\n",
    "        for (int i = 0; i < matA.length; i++) {\n",
    "            for (int j = 0; j < matA[0].length; j++) {\n",
    "                matB[2*i][2*j] = matA[i][j];\n",
    "                matB[2*i + 1][2*j] = matA[i][j];\n",
    "                matB[2*i][2*j + 1] = matA[i][j];\n",
    "                matB[2*i + 1][2*j + 1] = matA[i][j];\n",
    "            }\n",
    "        }\n",
    "\n",
    "        for (int i = 0; i < matB.length; i++) {\n",
    "            for (int j = 0; j < matB[0].length; j++) {\n",
    "                System.out.print(matB[i][j] + \" \");\n",
    "            }\n",
    "            System.out.println(\" \");\n",
    "        }\n",
    "\n",
    "        return (\" \");\n",
    "    }\n",
    "    \n",
    "    public static void main(String args[]) {\n",
    "        int[][] matA = { { 4, 5, 6 }, {1, 2, 3 }, { 4, 5, 6 } };\n",
    "        int[][] matB = { { 4, 5, 6 }, { 1, 3, 2 }, { 4, 5, 6 } };\n",
    "        System.out.println(\"Diagonal Sum: \" + diagonalOp(matA, matB) + \"\\n\");\n",
    "        System.out.println(\"Expanded Form: \");\n",
    "        System.out.println(expandMatrix(matA));\n",
    "    }\n",
    "}\n",
    "Tester.main(null);"
   ]
  }
 ],
 "metadata": {
  "kernelspec": {
   "display_name": "Java",
   "language": "java",
   "name": "java"
  },
  "language_info": {
   "codemirror_mode": "java",
   "file_extension": ".jshell",
   "mimetype": "text/x-java-source",
   "name": "Java",
   "pygments_lexer": "java",
   "version": "11.0.17+8-post-Ubuntu-1ubuntu222.04"
  },
  "orig_nbformat": 4
 },
 "nbformat": 4,
 "nbformat_minor": 2
}
