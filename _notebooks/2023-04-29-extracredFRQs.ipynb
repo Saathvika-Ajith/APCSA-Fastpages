{
 "cells": [
  {
   "attachments": {},
   "cell_type": "markdown",
   "metadata": {},
   "source": [
    "# Extra Credit FRQs\n",
    "\n",
    "- toc: true\n",
    "- badges: true\n",
    "- comments: true\n",
    "- categories: [fastpages, jupyter]"
   ]
  },
  {
   "attachments": {},
   "cell_type": "markdown",
   "metadata": {},
   "source": [
    "## FRQs - Methods and Control Structures\n",
    "### Question 3\n",
    "part a)"
   ]
  },
  {
   "cell_type": "code",
   "execution_count": null,
   "metadata": {
    "vscode": {
     "languageId": "java"
    }
   },
   "outputs": [],
   "source": [
    "/** Precondition: n is between 1 and 12, inclusive.\n",
    "* Returns the factorial of n, as described in part (a).\n",
    "*/\n",
    "\n",
    "public static int factorial(int n) {\n",
    "    n *= (n - 1);\n",
    "    n--;\n",
    "    if ( n > 1) {\n",
    "        factorial(n);\n",
    "    } else {\n",
    "        return n;\n",
    "    }\n",
    "}"
   ]
  },
  {
   "attachments": {},
   "cell_type": "markdown",
   "metadata": {},
   "source": [
    "part b)"
   ]
  },
  {
   "cell_type": "code",
   "execution_count": null,
   "metadata": {
    "vscode": {
     "languageId": "java"
    }
   },
   "outputs": [],
   "source": [
    "/** Precondition: n and r are between 1 and 12, inclusive.\n",
    "* Determines the number of ways r items can be selected\n",
    "* from n choices and prints the result, as described in part (b).\n",
    "*/\n",
    "\n",
    "public static void numCombinations(int n, int r) {\n",
    "    int w = 0;\n",
    "    if ( r > n) {\n",
    "        return (\"There are \" + w + \" ways of choosing \" + n + \" items from \" + r + \" choices.\");\n",
    "    } else {\n",
    "        w = (factorial(n)) / ((factorial(r)) * (n - r));\n",
    "        return (\"There are \" + w + \" ways of choosing \" + n + \" items from \" + r + \" choices.\");\n",
    "    }\n",
    "}"
   ]
  },
  {
   "attachments": {},
   "cell_type": "markdown",
   "metadata": {},
   "source": [
    "running result"
   ]
  },
  {
   "cell_type": "code",
   "execution_count": 28,
   "metadata": {
    "vscode": {
     "languageId": "java"
    }
   },
   "outputs": [
    {
     "name": "stdout",
     "output_type": "stream",
     "text": [
      "Factorial of 7 : 5040\n",
      "Combination of 8 and 4 : There are 420 ways of choosing 8 items from 4 choices.\n"
     ]
    }
   ],
   "source": [
    "public class Tester {\n",
    "    \n",
    "    public static int factorial(int n) { // my factorial code was wrong and would not run\n",
    "        if (n >= 1 && n <=12) {\n",
    "            if (n==1) {\n",
    "                return 1;\n",
    "            } else {\n",
    "                return n * factorial(n-1);\n",
    "            }\n",
    "        } else {\n",
    "        return -1;\n",
    "        }\n",
    "    }\n",
    "\n",
    "    public static String numCombinations(int n, int r) { // this method runs correctly\n",
    "        int w = 0;\n",
    "        if ( r > n) {\n",
    "            return (\"There are \" + w + \" ways of choosing \" + n + \" items from \" + r + \" choices.\");\n",
    "        } else {\n",
    "            w = (factorial(n)) / ((factorial(r)) * (n - r));\n",
    "            return (\"There are \" + w + \" ways of choosing \" + n + \" items from \" + r + \" choices.\");\n",
    "        }\n",
    "    }\n",
    "    \n",
    "    public static void main(String args[]) {\n",
    "        System.out.println(\"Factorial of 7 : \" + factorial(7));\n",
    "        System.out.println(\"Combination of 8 and 4 : \" + numCombinations(8, 4));\n",
    "        \n",
    "    }\n",
    "}\n",
    "Tester.main(null);"
   ]
  },
  {
   "attachments": {},
   "cell_type": "markdown",
   "metadata": {},
   "source": [
    "## FRQs - Class\n",
    "### Question 3"
   ]
  },
  {
   "cell_type": "code",
   "execution_count": null,
   "metadata": {
    "vscode": {
     "languageId": "java"
    }
   },
   "outputs": [],
   "source": [
    "public class MultPractice implements StudyPractice { //+1\n",
    "    \n",
    "    private int n1;\n",
    "    private int n2; //+1\n",
    "\n",
    "    public MultPractice (int n1, int n2) { //+2\n",
    "        this.n1 = n1;\n",
    "        this.n2 = n2;\n",
    "    }\n",
    "\n",
    "    public String getProblem() { //+3\n",
    "        return (n1 + \" TIMES \" + n2);\n",
    "    }\n",
    "\n",
    "    public void nextProblem() { //+2\n",
    "        n2++;\n",
    "    }\n",
    "\n",
    "    public static void main(String args[]) {\n",
    "        StudyPractice p2 = new MultPractice(3, 4);\n",
    "        System.out.println(p2.getProblem());\n",
    "    }\n",
    "    \n",
    "}\n",
    "// 9/9!!!"
   ]
  },
  {
   "attachments": {},
   "cell_type": "markdown",
   "metadata": {},
   "source": [
    "running result"
   ]
  },
  {
   "cell_type": "code",
   "execution_count": 35,
   "metadata": {
    "vscode": {
     "languageId": "java"
    }
   },
   "outputs": [
    {
     "name": "stdout",
     "output_type": "stream",
     "text": [
      "3 TIMES 4\n",
      "3 TIMES 5\n"
     ]
    }
   ],
   "source": [
    "public class MultPractice {\n",
    "    \n",
    "    private int n1;\n",
    "    private int n2;\n",
    "\n",
    "    public MultPractice (int n1, int n2) {\n",
    "        this.n1 = n1;\n",
    "        this.n2 = n2;\n",
    "    }\n",
    "\n",
    "    public String getProblem() {\n",
    "        return (n1 + \" TIMES \" + n2);\n",
    "    }\n",
    "\n",
    "    public void nextProblem() {\n",
    "        n2++;\n",
    "    }\n",
    "\n",
    "    public static void main(String args[]) {\n",
    "        MultPractice p2 = new MultPractice(3, 4);\n",
    "        System.out.println(p2.getProblem());\n",
    "        p2.nextProblem();\n",
    "        System.out.println(p2.getProblem());\n",
    "    }\n",
    "    \n",
    "}\n",
    "MultPractice.main(null);"
   ]
  },
  {
   "attachments": {},
   "cell_type": "markdown",
   "metadata": {},
   "source": [
    "## FRQs - Arrays, ArrayLists\n",
    "### Question 3\n",
    "part a)"
   ]
  }
 ],
 "metadata": {
  "kernelspec": {
   "display_name": "Java",
   "language": "java",
   "name": "java"
  },
  "language_info": {
   "codemirror_mode": "java",
   "file_extension": ".jshell",
   "mimetype": "text/x-java-source",
   "name": "Java",
   "pygments_lexer": "java",
   "version": "11.0.17+8-post-Ubuntu-1ubuntu222.04"
  },
  "orig_nbformat": 4
 },
 "nbformat": 4,
 "nbformat_minor": 2
}
