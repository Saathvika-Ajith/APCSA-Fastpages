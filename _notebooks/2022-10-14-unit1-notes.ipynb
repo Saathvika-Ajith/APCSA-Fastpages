{
 "cells": [
  {
   "cell_type": "markdown",
   "metadata": {},
   "source": [
    "# Unit 1 - Primitive Types\n",
    "\n",
    "- toc: true\n",
    "- badges: true\n",
    "- comments: true\n",
    "- categories: [jupyter]"
   ]
  },
  {
   "cell_type": "markdown",
   "metadata": {},
   "source": [
    "## Primitives vs. Non-Primitives -\n",
    "- primitives -\n",
    "  - predefined\n",
    "  - lowercase\n",
    "  - \"Primitives\"\n",
    "  - can't call methods\n",
    "  - has a value\n",
    "  - has different sizes according to type\n",
    "- non-primitives -\n",
    "  - defined by you\n",
    "  - uppercase\n",
    "  - \"Reference Types\"\n",
    "  - can call methods\n",
    "  - can be null\n",
    "  - all the same size"
   ]
  },
  {
   "cell_type": "markdown",
   "metadata": {},
   "source": [
    "## Primitives Review -\n",
    "- boolean\n",
    "  - true/false only\n",
    "  - 1 bit\n",
    "- int\n",
    "  - integer values\n",
    "  - 2-3 bits\n",
    "- double\n",
    "  - decimal values\n",
    "  - 64 bits\n",
    "- additional -\n",
    "  - char\n",
    "  - float\n",
    "  - long\n",
    "- more info - `casting`\n",
    "  - widening is when you're going from a smaller data type to a bigger one\n",
    "    - in division, when you want decimal values, you should `cast` from an int to a float\n",
    "  - narrowing is going from a bigger data type to a smaller one\n",
    "    - when truncating or rounding, you could convert your number to the lesser whole number by `casting` from float to int"
   ]
  },
  {
   "cell_type": "markdown",
   "metadata": {},
   "source": [
    "## Adding Strings or Mixed Types\n",
    "- `Concatenation` is the process of combining two or more strings to form a new string by subsequently appending the next string to the end of the previous strings."
   ]
  },
  {
   "cell_type": "code",
   "execution_count": 1,
   "metadata": {},
   "outputs": [
    {
     "name": "stdout",
     "output_type": "stream",
     "text": [
      "John Doe\n"
     ]
    }
   ],
   "source": [
    "String firstName = \"John \";\n",
    "String lastName = \"Doe\";\n",
    "System.out.println(firstName.concat(lastName));"
   ]
  },
  {
   "cell_type": "markdown",
   "metadata": {},
   "source": [
    "- You can `concatenate` mixed primitive types by using the `+` operator:"
   ]
  },
  {
   "cell_type": "code",
   "execution_count": 4,
   "metadata": {},
   "outputs": [
    {
     "name": "stdout",
     "output_type": "stream",
     "text": [
      "I ate 3 waffles this morning.\n"
     ]
    }
   ],
   "source": [
    "int waffNum = 3;\n",
    "System.out.println(\"I ate \" + waffNum + \" waffles this morning.\");"
   ]
  },
  {
   "cell_type": "markdown",
   "metadata": {},
   "source": [
    "## Operators Review -\n",
    "- (+) addition\n",
    "- (-) subtraction\n",
    "- (/) division\n",
    "- (%) finds the remainder\n",
    "- (*) multiplication\n",
    "- (++) adds 1\n",
    "- (--) subtracts 1\n",
    "- (++x) adds x\n",
    "- (--x) subtracts x\n",
    "- compound operators - do a math operation and then assign it back to the variable\n",
    "  - (+=) adds\n",
    "  - (-=) subtracts\n",
    "  - (*=) multiplies\n",
    "  - (/=) divides\n",
    "  - (%=) finds the remainder"
   ]
  },
  {
   "cell_type": "markdown",
   "metadata": {},
   "source": [
    "### Coding Challenge 1 -"
   ]
  },
  {
   "cell_type": "code",
   "execution_count": 11,
   "metadata": {},
   "outputs": [
    {
     "name": "stdout",
     "output_type": "stream",
     "text": [
      "x = 2\n"
     ]
    }
   ],
   "source": [
    "public class CompOpsDemo {\n",
    "    public static void main(String[] args) {\n",
    "        int x = 6;\n",
    "        x += 7;\n",
    "        x -= 3;\n",
    "        x *= 10;\n",
    "        x /= 5;\n",
    "        x %= 3;\n",
    "        System.out.println(\"x = \" + x);\n",
    "    }\n",
    "}\n",
    "CompOpsDemo.main(null);"
   ]
  },
  {
   "cell_type": "markdown",
   "metadata": {},
   "source": [
    "### Coding Challenge 2 -"
   ]
  },
  {
   "cell_type": "code",
   "execution_count": 13,
   "metadata": {},
   "outputs": [
    {
     "name": "stdout",
     "output_type": "stream",
     "text": [
      "x = 3\n",
      "y = 2\n"
     ]
    }
   ],
   "source": [
    "public class CompOpsDemo {\n",
    "    public static void main(String[] args) {\n",
    "        int x = 2;\n",
    "        int y = 7;\n",
    "        x++;\n",
    "        y--;\n",
    "        System.out.println(\"x = \" + x);\n",
    "        System.out.println(\"y = \" + y);\n",
    "    }\n",
    "}\n",
    "CompOpsDemo.main(null);"
   ]
  },
  {
   "cell_type": "markdown",
   "metadata": {},
   "source": [
    "Question and Answer - \n",
    "1. the value of z = 2\n",
    "2. a and d\n",
    "3. val = 6\n",
    "4. i = 96\n",
    "5. j = 458\n",
    "6. "
   ]
  },
  {
   "cell_type": "code",
   "execution_count": 16,
   "metadata": {},
   "outputs": [
    {
     "name": "stdout",
     "output_type": "stream",
     "text": [
      "i = 120\n"
     ]
    }
   ],
   "source": [
    "public class CompOpsDemo {\n",
    "    public static void main(String[] args) {\n",
    "        int i = 5;\n",
    "        int p = 27;\n",
    "        for(int l = 23; l < p; l++) {\n",
    "            i *= (l-22);\n",
    "        }\n",
    "        System.out.println(\"i = \" + i);\n",
    "    }\n",
    "}\n",
    "CompOpsDemo.main(null);"
   ]
  },
  {
   "cell_type": "markdown",
   "metadata": {},
   "source": [
    "## HW - 2006 FRQ Q1 -"
   ]
  },
  {
   "cell_type": "code",
   "execution_count": null,
   "metadata": {},
   "outputs": [],
   "source": [
    "// part a:\n",
    "/*\n",
    " * Write the Appointment method conflictsWith. \n",
    " * If the time interval of the current appointment \n",
    " * overlaps with the time interval of the appointment other, \n",
    " * method conflictsWith should return true, otherwise, \n",
    " * it should return false. \n",
    " * Complete method conflictsWith below.\n",
    " * returns true if the time interval of this Appointment\n",
    " * overlaps with the time interval of other;\n",
    " * otherwise, returns false\n",
    " */\n",
    "public boolean conflictsWith(Appointment other) {\n",
    "    return getTime().overlapsWith(other.getTime());\n",
    "} \n",
    "\n",
    "// part b:\n",
    "/*\n",
    " Write the DailySchedule method clearConflicts. Method clearConflicts removes all\n",
    " appointments that conflict with the given appointment.\n",
    " In writing method clearConflicts, you may assume that conflictsWith works as specified,\n",
    " regardless of what you wrote in part (a).\n",
    " Complete method clearConflicts below.\n",
    " removes all appointments that overlap the given Appointment\n",
    " postcondition: all appointments that have a time conflict with\n",
    " appt have been removed from this DailySchedule  \n",
    " */\n",
    "public void clearConflicts(Appointment appt) {\n",
    "    for (int i = apptList.size()-1; i >= 0; i--) {\n",
    "        if (appt.conflictsWith((Appointment)apptList.get(i))) {\n",
    "            apptList.remove(i); \n",
    "        }\n",
    "    }\n",
    "}\n",
    "\n",
    "// part c:\n",
    "/*\n",
    " In writing method addAppt, you may assume that conflictsWith and clearConflicts work\n",
    " as specified, regardless of what you wrote in parts (a) and (b). \n",
    " Complete method addAppt below.\n",
    " if emergency is true, clears any overlapping appointments and adds\n",
    " appt to this DailySchedule; otherwise, if there are no conflicting\n",
    " appointments, adds appt to this DailySchedule;\n",
    " returns true if the appointment was added;\n",
    " otherwise, returns false\n",
    " */\n",
    "public boolean addAppt(Appointment appt, boolean emergency) {\n",
    "    if (emergency) {\n",
    "        clearConflicts(appt);\n",
    "    }\n",
    "    else {\n",
    "        for (int i = 0; i < apptList.size(); i++) {\n",
    "            if (appt.conflictsWith((Appointment)apptList.get(i))) {\n",
    "                return false;\n",
    "            }\n",
    "        }\n",
    "    }\n",
    "    return apptList.add(appt); \n",
    "}"
   ]
  },
  {
   "cell_type": "markdown",
   "metadata": {},
   "source": [
    "## HW - Q2a -"
   ]
  },
  {
   "cell_type": "code",
   "execution_count": null,
   "metadata": {},
   "outputs": [],
   "source": [
    "/*\n",
    " Write the TaxableItem method purchasePrice. The purchase price of a TaxableItem is its\n",
    " list price plus the tax on the item. The tax is computed by multiplying the list price by the tax rate. For\n",
    " example, if the tax rate is 0.10 (representing 10%), the purchase price of an item with a list price of $6.50\n",
    " would be $7.15.\n",
    " Complete method purchasePrice below.\n",
    " returns the price of the item including the tax \n",
    " */\n",
    "public double purchasePrice() {\n",
    "    return (1 + taxRate) * getListPrice();\n",
    "}"
   ]
  },
  {
   "cell_type": "markdown",
   "metadata": {},
   "source": [
    "## HW - Q3a -"
   ]
  },
  {
   "cell_type": "code",
   "execution_count": null,
   "metadata": {},
   "outputs": [],
   "source": [
    "/*\n",
    " Complete method compareCustomer below.\n",
    " returns 0 when this customer is equal to other;\n",
    " a positive integer when this customer is greater than other;\n",
    " a negative integer when this customer is less than other \n",
    " */\n",
    "public int compareCustomer(Customer other) {\n",
    "    int nameCompare = getName().compareTo(other.getName());\n",
    "    if (nameCompare != 0) {\n",
    "        return nameCompare;\n",
    "    }\n",
    "    else {\n",
    "        return getID() - other.getID();\n",
    "    }\n",
    "}"
   ]
  },
  {
   "cell_type": "markdown",
   "metadata": {},
   "source": [
    "# Grade Calculator -"
   ]
  },
  {
   "cell_type": "code",
   "execution_count": 1,
   "metadata": {},
   "outputs": [
    {
     "name": "stdout",
     "output_type": "stream",
     "text": [
      "Is the final in its own category? \n",
      " 1 - True \n",
      " 2 - False\n",
      "What is your current grade? 90.0\n",
      "How much is your test category worth? 15\n",
      "How many point are in the test category? 254"
     ]
    }
   ],
   "source": [
    "import java.util.Scanner;  // Import the Scanner class\n",
    "int separate = 0;\n",
    "double g = 96; // Current Class Grade\n",
    "double percentFinal = 30;\n",
    "double finalScore = 0;\n",
    "int t = 80; // test percent of the grade\n",
    "int p = 300; // point in the test category\n",
    "int f = 100; // points that the final is worth\n",
    "double a = 92; // percent of points scored within the test category\n",
    "double w = 90; // wanted grade\n",
    "Scanner finalQ = new Scanner(System.in);  // Create a Scanner object\n",
    "System.out.println(\"Is the final in its own category? \\n 1 - True \\n 2 - False\");\n",
    "separate = finalQ.nextInt();\n",
    "if(separate == 1){\n",
    "    System.out.println(\"What is your current grade?\");\n",
    "    g = finalQ.nextDouble();\n",
    "    System.out.println(\"How much percent of your grade is the final?\");\n",
    "    percentFinal = finalQ.nextDouble();\n",
    "    System.out.println(\"What is your desired grade?\");\n",
    "    w = finalQ.nextDouble();\n",
    "    finalScore = (w -g * (100.0- percentFinal)/100) / (percentFinal/100);\n",
    "    System.out.print(\"You need to get at least a \" + String.format(\"%.2f\", (finalScore/f)*100) + \"% on you final to get a \" + w);\n",
    "}\n",
    "else if(separate == 2){\n",
    "    System.out.print(\"What is your current grade? \");\n",
    "    g = finalQ.nextDouble();\n",
    "    System.out.println(g);\n",
    "    System.out.print(\"How much is your test category worth? \");\n",
    "    t = finalQ.nextInt();\n",
    "    System.out.println(t);\n",
    "    System.out.print(\"How many point are in the test category? \");\n",
    "    p = finalQ.nextInt();\n",
    "    System.out.println(p);\n",
    "    System.out.print(\"How many point is the final? \");\n",
    "    f = finalQ.nextInt();\n",
    "    System.out.println(f);\n",
    "    System.out.print(\"What is your grade in the test category? \");\n",
    "    a = finalQ.nextDouble();\n",
    "    System.out.println(a);\n",
    "    System.out.print(\"What is your desired grade? \");\n",
    "    w = finalQ.nextDouble();\n",
    "    System.out.println(w);\n",
    "    finalScore = ((0.01*a*f*t)-(f*g)+(f*w)-(g*p)+(p*w))/t;\n",
    "    System.out.print(\"You need to get at least a \" + String.format(\"%.2f\", (finalScore/f)*100) + \"% on you final to get a \" + w);\n",
    "}\n",
    "else{\n",
    "    System.out.print(\"Unexpected choice, try again.\");\n",
    "}"
   ]
  }
 ],
 "metadata": {
  "kernelspec": {
   "display_name": "Java",
   "language": "java",
   "name": "java"
  },
  "language_info": {
   "codemirror_mode": "java",
   "file_extension": ".jshell",
   "mimetype": "text/x-java-source",
   "name": "java",
   "pygments_lexer": "java",
   "version": "11.0.16+8-post-Ubuntu-0ubuntu120.04"
  },
  "orig_nbformat": 4,
  "vscode": {
   "interpreter": {
    "hash": "916dbcbb3f70747c44a77c7bcd40155683ae19c65e1c03b4aa3499c5328201f1"
   }
  }
 },
 "nbformat": 4,
 "nbformat_minor": 2
}
