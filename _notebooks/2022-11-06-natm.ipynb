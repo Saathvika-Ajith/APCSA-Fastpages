{
 "cells": [
  {
   "cell_type": "markdown",
   "metadata": {},
   "source": [
    "# What I did at Night at the Museum\n",
    "\n",
    "- toc: false\n",
    "- badges: true\n",
    "- comments: true\n",
    "- categories: [fastpages, jupyter]"
   ]
  },
  {
   "cell_type": "markdown",
   "metadata": {},
   "source": [
    "## 1) Present our Project\n",
    "![](../images/IMG-0406.ipg)\n",
    "![](../images/IMG-0410.ipg)\n",
    "![](../images/IMG-0411.ipg)\n",
    "\n",
    "## 2) Listened to Other Projects\n",
    "![](../images/IMG-0417.ipg)\n",
    "![](../images/IMG-0421.ipg)\n",
    "\n",
    "## 3) Walked Around and Saw Art\n",
    "![](../images/IMG-0422.ipg)\n",
    "![](../images/IMG-0423.ipg)\n",
    "![](../images/IMG-0425.ipg)\n",
    "![](../images/IMG-0426.ipg)\n",
    "![](../images/IMG-0427.ipg)\n",
    "![](../images/IMG-0428.ipg)"
   ]
  }
 ],
 "metadata": {
  "kernelspec": {
   "display_name": "Java",
   "language": "java",
   "name": "java"
  },
  "language_info": {
   "name": "java"
  },
  "orig_nbformat": 4
 },
 "nbformat": 4,
 "nbformat_minor": 2
}
