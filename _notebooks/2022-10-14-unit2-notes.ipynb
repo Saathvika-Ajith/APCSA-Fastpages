{
 "cells": [
  {
   "cell_type": "markdown",
   "metadata": {},
   "source": [
    "# Unit 2 - Using Objects\n",
    "\n",
    "- toc: true\n",
    "- badges: true\n",
    "- comments: true\n",
    "- categories: [jupyter]"
   ]
  },
  {
   "cell_type": "markdown",
   "metadata": {},
   "source": [
    "## Objects - Instances of Classes\n",
    "- a class is a blueprint for creating objects with the same behavior and defined attributes\n",
    "- an object is a specific entity, made from a class, that you can manipulate in your programs\n",
    "- objects are instances of classes with variables used to name them\n",
    "\n",
    "## Creating and Storing Objects (Instantiation)\n",
    "- constructors are used to initialize the attributes for an object\n",
    "- an example of formal parameters:"
   ]
  },
  {
   "cell_type": "code",
   "execution_count": null,
   "metadata": {},
   "outputs": [],
   "source": [
    "public Person(String nm, int ag, boolean ad) {\n",
    "    name = nm;\n",
    "    age = ag;\n",
    "    isAdult = ad;\n",
    "}"
   ]
  },
  {
   "cell_type": "markdown",
   "metadata": {},
   "source": [
    "- overloading constructors\n",
    "  - there can be more than one constructor for an object, which is called overloading the constructor\n",
    "  - a no-argument constructor has no parameters and sets the instance variables for the object to default values\n",
    "- employee example -"
   ]
  },
  {
   "cell_type": "code",
   "execution_count": null,
   "metadata": {},
   "outputs": [],
   "source": [
    "public class Employee {\n",
    "    \n",
    "    private String name;\n",
    "    private String empId;\n",
    "    private int pay;\n",
    "\n",
    "    public Employee(String nm, String id, int pay) {\n",
    "        name = nm;\n",
    "        empId = id;\n",
    "        pay = 20;\n",
    "    }\n",
    "\n",
    "    Employee person1 = new Employee(\"Simon\", \"7628\", 60000);\n",
    "    Employee person2 = new Employee(\"Cassidy\", \"3224\", 60000);\n",
    "    Employee person3 = new Employee(\"Bill\", \"1810\", 60000);\n",
    "\n",
    "}"
   ]
  },
  {
   "cell_type": "markdown",
   "metadata": {},
   "source": [
    "## Calling a Void Method\n",
    "- methods define the behaviors for all objects of a class and consist of a set of instructions for executing the behavior\n",
    "- procedural abstraction\n",
    "  - shortens and groups code so it's more simplified and methods can be used by other people without them having to understand it\n",
    "  - letter example -"
   ]
  },
  {
   "cell_type": "code",
   "execution_count": 6,
   "metadata": {},
   "outputs": [
    {
     "name": "stdout",
     "output_type": "stream",
     "text": [
      "Hi, friend!\n",
      "CSA is awesome!\n",
      "See you soon!\n"
     ]
    }
   ],
   "source": [
    "public class Letter {\n",
    "    \n",
    "    public void writeLetter() {\n",
    "        greeting();\n",
    "        specialMessage();\n",
    "        closing();\n",
    "    }\n",
    "\n",
    "    public void greeting() {\n",
    "        System.out.println(\"Hi, friend!\");\n",
    "    }\n",
    "\n",
    "    public void specialMessage() {\n",
    "        System.out.println(\"CSA is awesome!\");\n",
    "    }\n",
    "\n",
    "    public void closing() {\n",
    "        System.out.println(\"See you soon!\");\n",
    "    }\n",
    "\n",
    "    public static void main(String[] args) {\n",
    "        Letter friendLetter = new Letter();\n",
    "        friendLetter.writeLetter();\n",
    "    }\n",
    "    \n",
    "}\n",
    "Letter.main(null);"
   ]
  },
  {
   "cell_type": "markdown",
   "metadata": {},
   "source": [
    "## Calling a Void Method with Parameters"
   ]
  },
  {
   "cell_type": "code",
   "execution_count": 14,
   "metadata": {},
   "outputs": [
    {
     "name": "stdout",
     "output_type": "stream",
     "text": [
      "The average is = 36.2\n",
      "The average is = 33.4\n"
     ]
    }
   ],
   "source": [
    "public class Calculator {\n",
    "    \n",
    "    public void calcAverage(int num1, double num2) {\n",
    "        double average = (num1 + num2) / 2;\n",
    "        System.out.println(\"The average is = \" + average);\n",
    "    }\n",
    "\n",
    "    public void calcAverage(int num1, int num2, double num3) {\n",
    "        double average = (num1 + num2 + num3) / 3;\n",
    "        System.out.println(\"The average is = \" + average);\n",
    "    }\n",
    "\n",
    "    public static void main(String[] args) {\n",
    "        Calculator newAverage = new Calculator();\n",
    "        newAverage.calcAverage(21, 51.4);\n",
    "        newAverage.calcAverage(4, 24, 72.2);\n",
    "    }\n",
    "\n",
    "}\n",
    "Calculator.main(null);"
   ]
  },
  {
   "cell_type": "markdown",
   "metadata": {},
   "source": [
    "## HW - 2021 FRQ 1 - "
   ]
  },
  {
   "cell_type": "code",
   "execution_count": null,
   "metadata": {},
   "outputs": [],
   "source": [
    "public class WordMatch\n",
    "{\n",
    "/** The secret string. */\n",
    "private String secret;\n",
    "/** Constructs a WordMatch object with the given secret string of lowercase letters. */\n",
    "public WordMatch(String word)\n",
    "{\n",
    "/* implementation not shown */\n",
    "}\n",
    "/** Returns a score for guess, as described in part (a).\n",
    "* Precondition: 0 < guess.length() <= secret.length()\n",
    "*/\n",
    "public int scoreGuess(String guess)\n",
    "{ /* to be implemented in part (a) */ }\n",
    "/** Returns the better of two guesses, as determined by scoreGuess and the rules for a\n",
    "* tie-breaker that are described in part (b).\n",
    "* Precondition: guess1 and guess2 contain all lowercase letters.\n",
    "* guess1 is not the same as guess2.\n",
    "*/\n",
    "public String findBetterGuess(String guess1, String guess2)\n",
    "{ /* to be implemented in part (b) */ }\n",
    "} "
   ]
  },
  {
   "cell_type": "markdown",
   "metadata": {},
   "source": [
    "### part a)"
   ]
  },
  {
   "cell_type": "code",
   "execution_count": null,
   "metadata": {},
   "outputs": [],
   "source": [
    "/** Returns a score for guess, as described in part (a).\n",
    "* Precondition: 0 < guess.length() <= secret.length()\n",
    "*/\n",
    "public int scoreGuess(String guess) {\n",
    "    int count = 0;\n",
    "    for(int i = 0; i < secret.length(); i++) {\n",
    "      int j = i + guess.length();\n",
    "      if(j <= secret.length() && secret.substring(i, j).equals(guess))\n",
    "        count++;\n",
    "    }\n",
    "    return count * (guess.length() * guess.length());\n",
    "}  "
   ]
  },
  {
   "cell_type": "markdown",
   "metadata": {},
   "source": [
    "### part b)"
   ]
  },
  {
   "cell_type": "code",
   "execution_count": null,
   "metadata": {},
   "outputs": [],
   "source": [
    "public String findBetterGuess(String guess1, String guess2) {\n",
    "  int score1 = scoreGuess(guess1);\n",
    "  int score2 = scoreGuess(guess2);\n",
    "  if(score1 > score2) {\n",
    "    return guess1;\n",
    "  } else if(score2 > score1) {\n",
    "    return guess2;\n",
    "  } else {\n",
    "    if(guess1.compareTo(guess2) > 0) z{\n",
    "      return guess1;\n",
    "    } else {\n",
    "      return guess2;\n",
    "    }\n",
    "  }\n",
    "}"
   ]
  },
  {
   "cell_type": "markdown",
   "metadata": {},
   "source": [
    "## Using Objects in Java Quiz -\n",
    "- [Score: 6/7](https://docs.google.com/forms/d/e/1FAIpQLSfj6nVXYE2pRXHs2LNNfMCJMMGZbsDwToWY4iSXPVMKe7SUVQ/viewscore?viewscore=AE0zAgA81M9X3kkj0aBgvOwnXCd4GQebjANKVzJ6SzT1suZQ2N24RFKd2VpZ6OwAoAheflI)"
   ]
  }
 ],
 "metadata": {
  "kernelspec": {
   "display_name": "Java",
   "language": "java",
   "name": "java"
  },
  "language_info": {
   "codemirror_mode": "java",
   "file_extension": ".jshell",
   "mimetype": "text/x-java-source",
   "name": "java",
   "pygments_lexer": "java",
   "version": "11.0.16+8-post-Ubuntu-0ubuntu120.04"
  },
  "orig_nbformat": 4,
  "vscode": {
   "interpreter": {
    "hash": "916dbcbb3f70747c44a77c7bcd40155683ae19c65e1c03b4aa3499c5328201f1"
   }
  }
 },
 "nbformat": 4,
 "nbformat_minor": 2
}
