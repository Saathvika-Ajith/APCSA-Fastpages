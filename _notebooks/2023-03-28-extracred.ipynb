{
 "cells": [
  {
   "cell_type": "markdown",
   "metadata": {},
   "source": [
    "# 3/28/23 Notes\n",
    "\n",
    "- toc: true\n",
    "- badges: true\n",
    "- comments: true\n",
    "- categories: [fastpages, jupyter]"
   ]
  },
  {
   "attachments": {},
   "cell_type": "markdown",
   "metadata": {},
   "source": [
    "- they are ambassadors from Cal State San Marcos\n",
    "- CSSM has a good physic program, which interested them\n",
    "- didn't let failure define them and kept trying, one even went into a pHD for material sciences\n",
    "- CSSM inspired and helped them\n",
    "- you can switch into CSSM from Palomar community college\n",
    "- it'd easy and flexible to switch classes and you wouldn't even be that behind\n",
    "- many opportunities at CSSM for compsci, cybersecurity, and comp engineering\n",
    "- you don't need to feel confined or inflexible, you can take a degree in applied physics and a masters in mechanical engineering for example\n",
    "- there are a lot of events at CSSM such as hackthons and even women's hackathons\n",
    "- there are many STEM related clubs such as the cybersecurtiy club, robotics club, and physics club\n",
    "- internships can be anywhere from 4 weeks to 2 years, and you can send opportunities through google and emails with programs\n",
    "- internship tips:\n",
    "  - avoid unpaid ones\n",
    "  - ask for help with internship application essays\n",
    "- paying for college:\n",
    "  - grant is government funded money, and scholarship is private funded\n",
    "  - try to get a subsidized loan (money is partially given by the gov) because with unsubsidized you'll be paying back lots of interest\n",
    "- if you choose to do a pHD you need to get paid because it will be 5 - 10 years of working, theres an upcoming event targeted towards admitted students and seniors"
   ]
  },
  {
   "attachments": {},
   "cell_type": "markdown",
   "metadata": {},
   "source": [
    "## Reflection\n",
    "\n",
    "A point made during this presentation that really stuck with me is how flexible the majors system is in college. I used to think that it's really very rigid, and that you needed to know what you wanted to be when you grew up when you were like 5 and then pick only the most relevant and stick with it all 4 years of college, and whatever years beyond that you spend on your degree. But the presenters helped me understand more about when people say it's okay to change your major in college, and why it is. Even stranger, it seems you can get a graduate degree in something totally different than your undergrad just because it interested your more. As long as you are willing to put in the extra work needed, you change change your mind and pursue your passion anytime in these formative years, which is very relaxing to hear. I've been set on doing Aerospace Engineering for a while, but things change and interests shift, so it's always good to have this reassurance. Another thing I thought about during this is that just because you don't get into a name brand college doesn't mean that you can't have a good education, as CSSM isn't a college I've heard about much before, but it seems like a great place that really helps put people on good career paths."
   ]
  }
 ],
 "metadata": {
  "language_info": {
   "name": "python"
  },
  "orig_nbformat": 4
 },
 "nbformat": 4,
 "nbformat_minor": 2
}
