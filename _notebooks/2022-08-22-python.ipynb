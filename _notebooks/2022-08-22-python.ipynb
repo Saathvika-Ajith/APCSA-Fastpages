# "Python Notebook"
> "demo python code"

- toc: true
- branch: master
- comments: true
- author: Saathvika Ajith
- categories: [fastpages, jupyter]

## Simple Code Sample

"# Python Program to find the area of triangle"
"a = 5"
"b = 6"
"c = 7"

"# calculate the semi-perimeter"
"s = (a + b + c) / 2"

"# calculate the area"
"area = (s*(s-a)*(s-b)*(s-c)) ** 0.5"
"print('The area of the triangle is %0.5f' %area)"
