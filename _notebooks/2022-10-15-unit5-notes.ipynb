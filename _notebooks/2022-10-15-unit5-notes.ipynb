{
 "cells": [
  {
   "cell_type": "markdown",
   "metadata": {},
   "source": [
    "# Unit 5 - Writing Classes\n",
    "\n",
    "- toc: true\n",
    "- badges: true\n",
    "- comments: true\n",
    "- categories: [jupyter]"
   ]
  },
  {
   "cell_type": "markdown",
   "metadata": {},
   "source": [
    "## Hack 1 - **Creating a Class**"
   ]
  },
  {
   "cell_type": "code",
   "execution_count": null,
   "metadata": {
    "vscode": {
     "languageId": "java"
    }
   },
   "outputs": [],
   "source": [
    "public class Cow {\n",
    "\n",
    "    // instance variables\n",
    "    private String cowType;\n",
    "    private String sound;\n",
    "    private int numMilkings;\n",
    "\n",
    "    // constructor\n",
    "    public Cow (String cowType, String sound){\n",
    "        this.numMilkings = 0;\n",
    "        this.cowType = cowType;\n",
    "        this.sound = sound;\n",
    "    }\n",
    "}"
   ]
  },
  {
   "cell_type": "markdown",
   "metadata": {},
   "source": [
    "## **Naming Conventions**\n",
    "- Class names should be nouns, in mixed case with the first letter of each internal word capitalized. \n",
    "- Methods should be verbs, in mixed case with the first letter lowercase, with the first letter of each internal word capitalized.\n",
    "- Variable names should be short yet meaningful. The choice of a variable name should be mnemonic- that is, designed to indicate to the casual observer the intent of its use.\n",
    "\n",
    "## Basic Components - \n",
    "- Class: blueprint used to create objects\n",
    "  - Instance variables/attributes (data)\n",
    "  - Constructors\n",
    "  - Methods\n",
    "    - Accessors/Getters\n",
    "    - Mutators/Setters\n",
    "    - Main method (tester)\n",
    "- Objects: instances of a class\n",
    "\n",
    "## Keywords -\n",
    "- Control access and visibility of classes, data and methods\n",
    "  - public: no restricted access (can be accessed outside the declaring class)\n",
    "    - Classes \n",
    "    - Constructors\n",
    "  - private: restrict access to declaring class\n",
    "    - Instance variables\n",
    "  - Methods can be designated as public or private\n",
    "  - **this Keyword**\n",
    "    - Refers to current object in a method or constructor\n",
    "\n",
    "\n",
    "\n",
    "## Concept of OOP\n",
    "1. Variables and methods are wrapped in a unit (class)\n",
    "2. Implementation details of the class are hidden from the user\n",
    "- Benefits\n",
    "  - Restrict access to read-only  or write-only through accessor/mutator methods\n",
    "\n",
    "## Purpose\n",
    "- Initialize instance variables when an object is created\n",
    "- \"Has-a\" relationship\n",
    "  - Each object has attributes which are the instance variables declared inside the class\n",
    "- Constructors set the initial state of an object by assigning initial values to the instance variables\n",
    "  - Object's state: Attributes of an object and their values at a given time\n",
    "\n",
    "## Hack 2 - \n",
    "- notice use of **static variables** and **class variables**\n",
    "- also notice use of **static methods** and **class methods**"
   ]
  },
  {
   "cell_type": "code",
   "execution_count": null,
   "metadata": {
    "vscode": {
     "languageId": "java"
    }
   },
   "outputs": [],
   "source": [
    "public class Cow {\n",
    "\n",
    "    // instance variables\n",
    "    private String cowType;\n",
    "    private String sound;\n",
    "    private int numMilkings;\n",
    "\n",
    "    // default constructor\n",
    "    public Cow(){\n",
    "        this.numMilkings = 0;\n",
    "        this.cowType = null;\n",
    "        this.sound = null;\n",
    "    }\n",
    "\n",
    "    // all-args constructor\n",
    "    public Cow(String cowType, String sound, int numMilkings){\n",
    "        this.numMilkings = numMilkings;\n",
    "        this.cowType = cowType;\n",
    "        this.sound = sound;\n",
    "    }\n",
    "    \n",
    "\n",
    "    public Cow (String cowType, String sound){\n",
    "        this.numMilkings = 0;\n",
    "        this.cowType = cowType;\n",
    "        this.sound = sound;\n",
    "    }\n",
    "\n",
    "    public static void main(String[] args) {\n",
    "        Cow firstCow = new Cow(\"holstein\", \"moo\");\n",
    "        Cow secondCow = new Cow();\n",
    "        Cow thirdCow = new Cow(\"holstein\", \"moo\", 100);\n",
    "    }\n",
    "}\n",
    "\n",
    "Cow.main(null);"
   ]
  },
  {
   "cell_type": "markdown",
   "metadata": {},
   "source": [
    "## **Constructors** - \n",
    "- Default **Constructor**: no parameters\n",
    "  - Sets instance variables equal to default values, sometimes there is **no return** because they are the default values\n",
    "    - String: **null** \n",
    "    - Int/Double: 0\n",
    " - Java provides a no-argument default constructor if there are no constructors inside the class\n",
    "  - Instance variables set to default values\n",
    "\n",
    "## Procedural Abstraction Tip - \n",
    "- When you see repeated code, that is a signal for you to make a new method!\n",
    "- Benefits - \n",
    "  - organize our code by function \n",
    "  - reduce complexity\n",
    "  - reduce the repetition of code\n",
    "  - reuse code by putting it in a method and calling it whenever needed\n",
    "  - help with debugging and maintenance\n",
    "  - changes to that block of code only need to happen in one place"
   ]
  },
  {
   "cell_type": "markdown",
   "metadata": {},
   "source": [
    "## 3 steps to create and call a method - \n",
    "1. Object of the class\n",
    "    - Declare an object of your class in the main method or from outside the class.\n",
    "2. Method call\n",
    "    - Whenever you want to use the method, call -\n",
    "3. Method definition\n",
    "    - Write the method’s header and body code like below:"
   ]
  },
  {
   "cell_type": "code",
   "execution_count": null,
   "metadata": {
    "vscode": {
     "languageId": "java"
    }
   },
   "outputs": [],
   "source": [
    "// Step 1\n",
    "Classname objectName = new Classname();\n",
    "\n",
    "// Step 2\n",
    "objectName();\n",
    "\n",
    "//Step 3\n",
    "    // method header\n",
    "    public void methodName() {\n",
    "        // method body for the code\n",
    "    }"
   ]
  },
  {
   "cell_type": "markdown",
   "metadata": {},
   "source": [
    "## Accessor and Mutator Methods\n",
    "- The **Accessor Method’s** name is driven by the word “access” which allows the user to access the private information in a class. \n",
    "- If you have ever heard of the **“get” method or “getters”**, it is the same thing as accessors. The getters retrieve the private variables and constants to access outside the scope of a class. \n",
    "- An Example:"
   ]
  },
  {
   "cell_type": "code",
   "execution_count": null,
   "metadata": {
    "vscode": {
     "languageId": "java"
    }
   },
   "outputs": [],
   "source": [
    "public class Student {\n",
    "\n",
    "\tprivate String name;\n",
    "\n",
    "\tpublic String getName() {\n",
    "\t\treturn name;\n",
    "\t}\n",
    "}"
   ]
  },
  {
   "cell_type": "markdown",
   "metadata": {},
   "source": [
    "- The **Mutator Method** in Java is driven by the word “mutate”, which literally means to modify. Mutators allow the users to set/mutate the value of private variables of a class object. \n",
    "- In the object-oriented programming context, the **“set” method or “setters”** are also known as mutators. Setters facilitate encapsulation as private data members can not be modified directly. So setter methods/mutators are used to update a variable’s value outside the class scope.\n",
    "- Also, the **return type** for these methods must be **void**.\n",
    "- An Example:"
   ]
  },
  {
   "cell_type": "code",
   "execution_count": null,
   "metadata": {
    "vscode": {
     "languageId": "java"
    }
   },
   "outputs": [],
   "source": [
    "public class Student {\n",
    "\n",
    "\tprivate String name;\n",
    "\n",
    "\tpublic void setName(String name) {\n",
    "\t\tthis.name = name;\n",
    "\t}\n",
    "}"
   ]
  },
  {
   "cell_type": "markdown",
   "metadata": {},
   "source": [
    "## Parameters\n",
    "- When you create your own method, the variables you define for it in the method header are called formal parameters.\n",
    "\n",
    "- When you call the method to do its job, you give or pass in arguments or actual parameters to it that are then saved in these local parameter variables.\n",
    "\n",
    "- When a method is called, the right method definition is found by checking the method signature or header at the top of the method definition to match the method name, the number of arguments, the data types for the arguments and the return type.\n",
    "\n",
    "## Hack 3 -\n",
    "- use case of **access modifiers: Public, Private, Protected**"
   ]
  },
  {
   "cell_type": "code",
   "execution_count": 22,
   "metadata": {
    "vscode": {
     "languageId": "java"
    }
   },
   "outputs": [
    {
     "name": "stdout",
     "output_type": "stream",
     "text": [
      "Type of Cow: holstein; Sound: moo; Number of Milkings: 0\n",
      "Number of Milkings: 0\n",
      "Mutated Cow:Type of Cow: holstein; Sound: oink!; Number of Milkings: 0\n"
     ]
    }
   ],
   "source": [
    "public class Cow {\n",
    "\n",
    "    // instance variables\n",
    "    private String cowType;\n",
    "    private String sound;\n",
    "    protected int numMilkings;\n",
    "\n",
    "    public Cow (String cowType, String sound){\n",
    "        this.numMilkings = 0;\n",
    "        this.cowType = cowType;\n",
    "        this.sound = sound;\n",
    "    }\n",
    "\n",
    "    public int getNumMilkings(){\n",
    "        return numMilkings;\n",
    "    }\n",
    "\n",
    "    public void setSound(String sound){\n",
    "        this.sound = sound;\n",
    "    }\n",
    "\n",
    "    public String toString(){\n",
    "        return \"Type of Cow: \" + cowType + \"; \" + \"Sound: \" + sound + \"; \" + \"Number of Milkings: \" + numMilkings;\n",
    "    }\n",
    "\n",
    "    public static void main(String[] args) {\n",
    "        Cow firstCow = new Cow(\"holstein\", \"moo\");\n",
    "        System.out.println(firstCow);\n",
    "        System.out.println(\"Number of Milkings: \" + firstCow.getNumMilkings());\n",
    "        firstCow.setSound(\"oink!\");\n",
    "        System.out.println(\"Mutated Cow:\" + firstCow);\n",
    "    }\n",
    "}\n",
    "\n",
    "Cow.main(null);"
   ]
  },
  {
   "cell_type": "markdown",
   "metadata": {},
   "source": [
    "## Main vs. Tester Methods\n",
    "- The **Main Method** contains code to execute and call other methods, and is usually the entry point to execute the program\n",
    "- The **Tester Method** Tester method evaluates all of sections of code to see if it fulfills the requirements\n",
    "- Both are essential to coding and developing"
   ]
  },
  {
   "cell_type": "markdown",
   "metadata": {},
   "source": [
    "## A Special Type of Class\n",
    "- The **Math Class** is a Java class that includes many convenient math operations to be used in programs\n",
    "  - One such operation is the **`Math.random()`** method which returns a random number of data type double.\n",
    "- Note: **Math Class** is a built-in Java class that you have to **Inherit** or **Extend** the main class from Java in order to get all the built-in attributes and full functionality"
   ]
  },
  {
   "cell_type": "code",
   "execution_count": 17,
   "metadata": {
    "vscode": {
     "languageId": "java"
    }
   },
   "outputs": [
    {
     "name": "stdout",
     "output_type": "stream",
     "text": [
      "Random Number: 0.02571393866102667\n"
     ]
    }
   ],
   "source": [
    "import java.lang.Math; //importing Math class in Java\n",
    "class MyClass { \n",
    "  public static void main(String args[]) \n",
    "  { \n",
    "    double rand = Math.random(); // generating random number \n",
    "    System.out.println(\"Random Number: \" + rand);  // Output is different everytime this code is executed \n",
    "  } \n",
    "} \n",
    "MyClass.main(null);"
   ]
  },
  {
   "cell_type": "markdown",
   "metadata": {},
   "source": [
    "## HW - 2019 FRQ 2 - \n",
    "(rest of HW quiz has already been submitted)"
   ]
  },
  {
   "cell_type": "code",
   "execution_count": null,
   "metadata": {
    "vscode": {
     "languageId": "java"
    }
   },
   "outputs": [],
   "source": [
    "public class StepTracker {\n",
    "    private int days;\n",
    "    private int activeDays;\n",
    "    private int totalSteps;\n",
    "    private int minActive;\n",
    "\n",
    "    public StepTracker(int m) {\n",
    "        minActive = m;\n",
    "        days = 0;\n",
    "        activeDays = 0;\n",
    "        totalSteps = 0;\n",
    "    }\n",
    "\n",
    "    public int activeDays() {\n",
    "        return activeDays;\n",
    "    }\n",
    "\n",
    "    public double averageSteps() {\n",
    "        if (days == 0) {\n",
    "            return 0.0;\n",
    "        }\n",
    "        return double totalSteps / days;\n",
    "    }\n",
    "\n",
    "    public void addDailySteps(int steps) {\n",
    "        days++;\n",
    "        totalSteps += steps;\n",
    "        if (steps >= minActive) {\n",
    "            activeDays++;\n",
    "        }\n",
    "    }\n",
    "}"
   ]
  }
 ],
 "metadata": {
  "kernelspec": {
   "display_name": "Java",
   "language": "java",
   "name": "java"
  },
  "language_info": {
   "codemirror_mode": "java",
   "file_extension": ".jshell",
   "mimetype": "text/x-java-source",
   "name": "Java",
   "pygments_lexer": "java",
   "version": "11.0.16+8-post-Ubuntu-0ubuntu120.04"
  },
  "orig_nbformat": 4
 },
 "nbformat": 4,
 "nbformat_minor": 2
}
