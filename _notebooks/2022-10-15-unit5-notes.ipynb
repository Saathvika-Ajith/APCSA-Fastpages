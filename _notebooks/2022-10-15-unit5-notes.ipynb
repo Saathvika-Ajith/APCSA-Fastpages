{
 "cells": [
  {
   "cell_type": "markdown",
   "metadata": {},
   "source": [
    "# Unit 5 - Writing Classes\n",
    "\n",
    "- toc: true\n",
    "- badges: true\n",
    "- comments: true\n",
    "- categories: [jupyter]"
   ]
  },
  {
   "cell_type": "markdown",
   "metadata": {},
   "source": [
    "## Hack 1 - Creating a Class\n",
    "- the `creation of a class` called Cow"
   ]
  },
  {
   "cell_type": "code",
   "execution_count": null,
   "metadata": {
    "vscode": {
     "languageId": "java"
    }
   },
   "outputs": [],
   "source": [
    "public class Cow {\n",
    "\n",
    "    // instance variables\n",
    "    private String cowType;\n",
    "    private String sound;\n",
    "    private int numMilkings;\n",
    "\n",
    "    // constructor\n",
    "    public Cow (String cowType, String sound){\n",
    "        this.numMilkings = 0;\n",
    "        this.cowType = cowType;\n",
    "        this.sound = sound;\n",
    "    }\n",
    "}"
   ]
  },
  {
   "cell_type": "markdown",
   "metadata": {},
   "source": [
    "## Naming Conventions\n",
    "- `Class names` should be nouns, in mixed case with the first letter of each internal word capitalized. \n",
    "- `Method names` should be verbs, in mixed case with the first letter lowercase, with the first letter of each internal word capitalized.\n",
    "- `Variable names` should be short yet meaningful. The choice of a variable name should be mnemonic- that is, designed to indicate to the casual observer the intent of its use.\n",
    "\n",
    "## Basic Components - \n",
    "- Class: blueprint used to create objects\n",
    "  - Instance variables/attributes (data)\n",
    "  - Constructors\n",
    "  - Methods\n",
    "    - Accessors/Getters\n",
    "    - Mutators/Setters\n",
    "    - Main method (tester)\n",
    "- Objects: instances of a class\n",
    "\n",
    "## Keywords -\n",
    "- Control access and visibility of classes, data and methods\n",
    "  - public: no restricted access (can be accessed outside the declaring class)\n",
    "    - Classes \n",
    "    - Constructors\n",
    "  - private: restrict access to declaring class\n",
    "    - Instance variables\n",
    "  - Methods can be designated as public or private\n",
    "  - `this Keyword`\n",
    "    - Refers to current object in a method or constructor\n",
    "\n",
    "\n",
    "\n",
    "## Concept of OOP\n",
    "1. Variables and methods are wrapped in a unit (class)\n",
    "2. Implementation details of the class are hidden from the user\n",
    "- Benefits\n",
    "  - Restrict access to read-only  or write-only through accessor/mutator methods\n",
    "\n",
    "## Purpose\n",
    "- Initialize instance variables when an object is created\n",
    "- \"Has-a\" relationship\n",
    "  - Each object has attributes which are the instance variables declared inside the class\n",
    "- Constructors set the initial state of an object by assigning initial values to the instance variables\n",
    "  - Object's state: Attributes of an object and their values at a given time\n",
    "\n",
    "## Hack 2 - \n",
    "- notice use of `static variables` and `class variables`\n",
    "- also notice use of `static methods` and `class methods`"
   ]
  },
  {
   "cell_type": "code",
   "execution_count": null,
   "metadata": {
    "vscode": {
     "languageId": "java"
    }
   },
   "outputs": [],
   "source": [
    "public class Cow {\n",
    "\n",
    "    // instance variables\n",
    "    private String cowType;\n",
    "    private String sound;\n",
    "    private int numMilkings;\n",
    "\n",
    "    // default constructor\n",
    "    public Cow(){\n",
    "        this.numMilkings = 0;\n",
    "        this.cowType = null;\n",
    "        this.sound = null;\n",
    "    }\n",
    "\n",
    "    // all-args constructor\n",
    "    public Cow(String cowType, String sound, int numMilkings){\n",
    "        this.numMilkings = numMilkings;\n",
    "        this.cowType = cowType;\n",
    "        this.sound = sound;\n",
    "    }\n",
    "    \n",
    "\n",
    "    public Cow (String cowType, String sound){\n",
    "        this.numMilkings = 0;\n",
    "        this.cowType = cowType;\n",
    "        this.sound = sound;\n",
    "    }\n",
    "\n",
    "    public static void main(String[] args) {\n",
    "        Cow firstCow = new Cow(\"holstein\", \"moo\");\n",
    "        Cow secondCow = new Cow();\n",
    "        Cow thirdCow = new Cow(\"holstein\", \"moo\", 100);\n",
    "    }\n",
    "}\n",
    "\n",
    "Cow.main(null);"
   ]
  },
  {
   "cell_type": "markdown",
   "metadata": {},
   "source": [
    "## Constructors - \n",
    "- Default `Constructor`: no parameters\n",
    "  - Sets instance variables equal to default values, sometimes there is `no return` because they are the default values\n",
    "    - String: `null`\n",
    "    - Int/Double: 0\n",
    " - Java provides a no-argument default constructor if there are no constructors inside the class\n",
    "  - Instance variables set to default values\n",
    "\n",
    "## Procedural Abstraction Tip - \n",
    "- When you see repeated code, that is a signal for you to make a new method!\n",
    "- Benefits - \n",
    "  - organize our code by function \n",
    "  - reduce complexity\n",
    "  - reduce the repetition of code\n",
    "  - reuse code by putting it in a method and calling it whenever needed\n",
    "  - help with debugging and maintenance\n",
    "  - changes to that block of code only need to happen in one place"
   ]
  },
  {
   "cell_type": "markdown",
   "metadata": {},
   "source": [
    "## 3 steps to create and call a method - \n",
    "1. Object of the class\n",
    "    - Declare an object of your class in the main method or from outside the class.\n",
    "2. Method call\n",
    "    - Whenever you want to use the method, call -\n",
    "3. Method definition\n",
    "    - Write the method’s header and body code like below:"
   ]
  },
  {
   "cell_type": "code",
   "execution_count": null,
   "metadata": {
    "vscode": {
     "languageId": "java"
    }
   },
   "outputs": [],
   "source": [
    "// Step 1\n",
    "Classname objectName = new Classname();\n",
    "\n",
    "// Step 2\n",
    "objectName();\n",
    "\n",
    "//Step 3\n",
    "    // method header\n",
    "    public void methodName() {\n",
    "        // method body for the code\n",
    "    }"
   ]
  },
  {
   "cell_type": "markdown",
   "metadata": {},
   "source": [
    "## Accessor and Mutator Methods\n",
    "- The `Accessor Method’s` name is driven by the word “access” which allows the user to access the private information in a class. \n",
    "- If you have ever heard of the `“get” method or “getters”`, it is the same thing as accessors. The getters retrieve the private variables and constants to access outside the scope of a class. \n",
    "- An Example:"
   ]
  },
  {
   "cell_type": "code",
   "execution_count": null,
   "metadata": {
    "vscode": {
     "languageId": "java"
    }
   },
   "outputs": [],
   "source": [
    "public class Student {\n",
    "\n",
    "\tprivate String name;\n",
    "\n",
    "\tpublic String getName() {\n",
    "\t\treturn name;\n",
    "\t}\n",
    "}"
   ]
  },
  {
   "cell_type": "markdown",
   "metadata": {},
   "source": [
    "- The `Mutator Method` in Java is driven by the word “mutate”, which literally means to modify. Mutators allow the users to set/mutate the value of private variables of a class object. \n",
    "- In the object-oriented programming context, the `“set” method or “setters”` are also known as mutators. Setters facilitate encapsulation as private data members can not be modified directly. So setter methods/mutators are used to update a variable’s value outside the class scope.\n",
    "- Also, the `return type` for these methods must be `void`.\n",
    "- An Example:"
   ]
  },
  {
   "cell_type": "code",
   "execution_count": null,
   "metadata": {
    "vscode": {
     "languageId": "java"
    }
   },
   "outputs": [],
   "source": [
    "public class Student {\n",
    "\n",
    "\tprivate String name;\n",
    "\n",
    "\tpublic void setName(String name) {\n",
    "\t\tthis.name = name;\n",
    "\t}\n",
    "}"
   ]
  },
  {
   "cell_type": "markdown",
   "metadata": {},
   "source": [
    "## Parameters\n",
    "- When you create your own method, the variables you define for it in the method header are called formal parameters.\n",
    "\n",
    "- When you call the method to do its job, you give or pass in arguments or actual parameters to it that are then saved in these local parameter variables.\n",
    "\n",
    "- When a method is called, the right method definition is found by checking the method signature or header at the top of the method definition to match the method name, the number of arguments, the data types for the arguments and the return type.\n",
    "\n",
    "## Hack 3 -\n",
    "- use case of `access modifiers: Public, Private, Protected`"
   ]
  },
  {
   "cell_type": "code",
   "execution_count": 22,
   "metadata": {
    "vscode": {
     "languageId": "java"
    }
   },
   "outputs": [
    {
     "name": "stdout",
     "output_type": "stream",
     "text": [
      "Type of Cow: holstein; Sound: moo; Number of Milkings: 0\n",
      "Number of Milkings: 0\n",
      "Mutated Cow:Type of Cow: holstein; Sound: oink!; Number of Milkings: 0\n"
     ]
    }
   ],
   "source": [
    "public class Cow {\n",
    "\n",
    "    // instance variables\n",
    "    private String cowType;\n",
    "    private String sound;\n",
    "    protected int numMilkings;\n",
    "\n",
    "    public Cow (String cowType, String sound){\n",
    "        this.numMilkings = 0;\n",
    "        this.cowType = cowType;\n",
    "        this.sound = sound;\n",
    "    }\n",
    "\n",
    "    public int getNumMilkings(){\n",
    "        return numMilkings;\n",
    "    }\n",
    "\n",
    "    public void setSound(String sound){\n",
    "        this.sound = sound;\n",
    "    }\n",
    "\n",
    "    public String toString(){\n",
    "        return \"Type of Cow: \" + cowType + \"; \" + \"Sound: \" + sound + \"; \" + \"Number of Milkings: \" + numMilkings;\n",
    "    }\n",
    "\n",
    "    public static void main(String[] args) {\n",
    "        Cow firstCow = new Cow(\"holstein\", \"moo\");\n",
    "        System.out.println(firstCow);\n",
    "        System.out.println(\"Number of Milkings: \" + firstCow.getNumMilkings());\n",
    "        firstCow.setSound(\"oink!\");\n",
    "        System.out.println(\"Mutated Cow:\" + firstCow);\n",
    "    }\n",
    "}\n",
    "\n",
    "Cow.main(null);"
   ]
  },
  {
   "cell_type": "markdown",
   "metadata": {},
   "source": [
    "### Referencing a Superclass and Making a Subclass\n",
    "- `late binding of object and referencing superclass object`\n",
    "- also `Polymorphism`"
   ]
  },
  {
   "cell_type": "code",
   "execution_count": 1,
   "metadata": {
    "vscode": {
     "languageId": "java"
    }
   },
   "outputs": [
    {
     "name": "stdout",
     "output_type": "stream",
     "text": [
      "seat height of first bicycle is 25\n",
      "No of gears are 3\n",
      "speed of bicycle is 100\n",
      "seat height is 25\n",
      "No of gears are 4\n",
      "speed of bicycle is 200\n",
      "seat height is 20\n"
     ]
    }
   ],
   "source": [
    "// Java program to illustrate \n",
    "// referring to a subclass\n",
    "// base class\n",
    "class Bicycle \n",
    "{\n",
    "    // the Bicycle class has two fields\n",
    "    public int gear;\n",
    "    public int speed;\n",
    "          \n",
    "    // the Bicycle class has one constructor\n",
    "    public Bicycle(int gear, int speed)\n",
    "    {\n",
    "        this.gear = gear;\n",
    "        this.speed = speed;\n",
    "    }\n",
    "          \n",
    "    // the Bicycle class has three methods\n",
    "    public void applyBrake(int decrement)\n",
    "    {\n",
    "        speed -= decrement;\n",
    "    }\n",
    "          \n",
    "    public void speedUp(int increment)\n",
    "    {\n",
    "        speed += increment;\n",
    "    }\n",
    "      \n",
    "    // toString() method to print info of Bicycle\n",
    "    public String toString() \n",
    "    {\n",
    "        return(\"No of gears are \"+gear\n",
    "                +\"\\n\"\n",
    "                + \"speed of bicycle is \"+speed);\n",
    "    } \n",
    "}\n",
    "  \n",
    "// derived class\n",
    "class MountainBike extends Bicycle \n",
    "{\n",
    "      \n",
    "    // the MountainBike subclass adds one more field\n",
    "    public int seatHeight;\n",
    "  \n",
    "    // the MountainBike subclass has one constructor\n",
    "    public MountainBike(int gear,int speed,\n",
    "                        int startHeight)\n",
    "    {\n",
    "        // invoking base-class(Bicycle) constructor\n",
    "        super(gear, speed);\n",
    "        seatHeight = startHeight;\n",
    "    } \n",
    "          \n",
    "    // the MountainBike subclass adds one more method\n",
    "    public void setHeight(int newValue)\n",
    "    {\n",
    "        seatHeight = newValue;\n",
    "    } \n",
    "      \n",
    "    // overriding toString() method\n",
    "    // of Bicycle to print more info\n",
    "    @Override\n",
    "    public String toString() \n",
    "    {\n",
    "          \n",
    "        return (super.toString()+\n",
    "                \"\\nseat height is \"+seatHeight);\n",
    "    }\n",
    "      \n",
    "}\n",
    "  \n",
    "// driver class\n",
    "public class Test \n",
    "{\n",
    "    public static void main(String args[]) \n",
    "    {\n",
    "        // using superclass reference\n",
    "        // first approach\n",
    "        Bicycle mb2 = new MountainBike(4, 200, 20);\n",
    "          \n",
    "        // using subclass reference( )\n",
    "        // second approach\n",
    "        MountainBike mb1 = new MountainBike(3, 100, 25);\n",
    "          \n",
    "        System.out.println(\"seat height of first bicycle is \" \n",
    "                                            + mb1.seatHeight);\n",
    "              \n",
    "        // In case of overridden methods\n",
    "        // always subclass \n",
    "        // method will be executed\n",
    "        System.out.println(mb1.toString());\n",
    "        System.out.println(mb2.toString());\n",
    "  \n",
    "        /* The following statement is invalid because Bicycle\n",
    "        does not define a seatHeight. \n",
    "        // System.out.println(\"seat height of second bicycle is \" \n",
    "                                                + mb2.seatHeight); */\n",
    "                      \n",
    "        /* The following statement is invalid because Bicycle\n",
    "        does not define setHeight() method. \n",
    "        mb2.setHeight(21);*/\n",
    "  \n",
    "    }\n",
    "}\n",
    "Test.main(null);"
   ]
  },
  {
   "cell_type": "markdown",
   "metadata": {},
   "source": [
    "## Main vs. Tester Methods\n",
    "- The `Main Method` contains code to execute and call other methods, and is usually the entry point to execute the program\n",
    "- The `Tester Method` Tester method evaluates all of sections of code to see if it fulfills the requirements\n",
    "- Both are essential to coding and developing"
   ]
  },
  {
   "cell_type": "markdown",
   "metadata": {},
   "source": [
    "## A Special Type of Class\n",
    "- The `Math Class` is a Java class that includes many convenient math operations to be used in programs\n",
    "  - One such operation is the `Math.random()` method which returns a random number of data type double.\n",
    "- Note: `Math Class` is a built-in Java class that you have to `Inherit` or `Extend` the main class from Java in order to get all the built-in attributes and full functionality\n",
    "- `Subclass` Math inherits all methods and fields from the `superclass` in Java, and the constructor can be carried out from the subclass; `super` refers to superclass or parent objects while inheriting."
   ]
  },
  {
   "cell_type": "code",
   "execution_count": 17,
   "metadata": {
    "vscode": {
     "languageId": "java"
    }
   },
   "outputs": [
    {
     "name": "stdout",
     "output_type": "stream",
     "text": [
      "Random Number: 0.02571393866102667\n"
     ]
    }
   ],
   "source": [
    "import java.lang.Math; //importing Math class in Java\n",
    "class MyClass { \n",
    "  public static void main(String args[]) \n",
    "  { \n",
    "    double rand = Math.random(); // generating random number \n",
    "    System.out.println(\"Random Number: \" + rand);  // Output is different everytime this code is executed \n",
    "  } \n",
    "} \n",
    "MyClass.main(null);"
   ]
  },
  {
   "cell_type": "markdown",
   "metadata": {},
   "source": [
    "- Another special type is an `Abstract Class`\n",
    "  - `Abstract class` is a restricted class that cant be used to create objects and can only access if inherited from the other class, and the method can only be used in abstract class and has no implementation."
   ]
  },
  {
   "cell_type": "markdown",
   "metadata": {},
   "source": [
    "## HW - 2019 FRQ 2 - \n",
    "(rest of HW quiz has already been submitted)"
   ]
  },
  {
   "cell_type": "code",
   "execution_count": null,
   "metadata": {
    "vscode": {
     "languageId": "java"
    }
   },
   "outputs": [],
   "source": [
    "public class StepTracker {\n",
    "    private int days;\n",
    "    private int activeDays;\n",
    "    private int totalSteps;\n",
    "    private int minActive;\n",
    "\n",
    "    public StepTracker(int m) {\n",
    "        minActive = m;\n",
    "        days = 0;\n",
    "        activeDays = 0;\n",
    "        totalSteps = 0;\n",
    "    }\n",
    "\n",
    "    public int activeDays() {\n",
    "        return activeDays;\n",
    "    }\n",
    "\n",
    "    public double averageSteps() {\n",
    "        if (days == 0) {\n",
    "            return 0.0;\n",
    "        }\n",
    "        return double totalSteps / days;\n",
    "    }\n",
    "\n",
    "    public void addDailySteps(int steps) {\n",
    "        days++;\n",
    "        totalSteps += steps;\n",
    "        if (steps >= minActive) {\n",
    "            activeDays++;\n",
    "        }\n",
    "    }\n",
    "}"
   ]
  }
 ],
 "metadata": {
  "kernelspec": {
   "display_name": "Java",
   "language": "java",
   "name": "java"
  },
  "language_info": {
   "codemirror_mode": "java",
   "file_extension": ".jshell",
   "mimetype": "text/x-java-source",
   "name": "Java",
   "pygments_lexer": "java",
   "version": "11.0.16+8-post-Ubuntu-0ubuntu120.04"
  },
  "orig_nbformat": 4
 },
 "nbformat": 4,
 "nbformat_minor": 2
}
