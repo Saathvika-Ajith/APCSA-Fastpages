{
 "cells": [
  {
   "cell_type": "markdown",
   "metadata": {},
   "source": [
    "# If-Else Notebook\n",
    "\n",
    "- toc: true\n",
    "- badges: true\n",
    "- comments: true\n",
    "- categories: [fastpages, jupyter]\n",
    "- image: /images/demorgans-law-formula_all.png"
   ]
  },
  {
   "cell_type": "markdown",
   "metadata": {},
   "source": [
    "## Definitions:\n",
    "\n",
    "Conditional Statement: \n",
    "- A statement that only executes when a condition is true\n",
    "\n",
    "Boolean:\n",
    "- A primitive data type that can be either true or false\n",
    "\n",
    "If Statement:\n",
    "- The code in the body of an if statement will only execute if the code is true\n",
    "\n",
    "If-Else Statement:\n",
    "- Same as an if statement, but if the condition is false the code in the body of the else statement will execute\n",
    "\n",
    "(==) : equal to\n",
    "\n",
    "(!=) : not equal to\n",
    "\n",
    "(<=) : less than or equal to\n",
    "\n",
    "(>=) : greater than or equal to\n",
    "\n",
    "(&&) : and\n",
    "\n",
    "(||) : or\n",
    "\n",
    "## Complex 5 layer While, If, and Else statement program:"
   ]
  },
  {
   "cell_type": "code",
   "execution_count": 7,
   "metadata": {},
   "outputs": [
    {
     "name": "stdout",
     "output_type": "stream",
     "text": [
      "Enter the student's score (or -100 to quit): \n",
      "Score: {13} | is not enough to advance to the next level.\n",
      "Enter the student's score (or -100 to quit): \n",
      "Score: {50} | is enough to advance, but is less than the high score.\n",
      "Enter the student's score (or -100 to quit): \n",
      "Score: {89} | is enough to advance, and greater than the high score!\n",
      "Enter the student's score (or -100 to quit): Goodbye!\n"
     ]
    }
   ],
   "source": [
    "import java.util.Scanner;\n",
    "\n",
    "// this is a program that would display if a score in a game is enough to advance to the next level\n",
    "\n",
    "public class Score {\n",
    "  public static void main(String[] args) {\n",
    "\n",
    "    // where the user inputs their score\n",
    "    Scanner input = new Scanner(System.in);\n",
    "    int score = 0;\n",
    "\n",
    "    // makes it so the program runs until the user decides to quit the program\n",
    "    while (score != -100) {\n",
    "      System.out.print(\"Enter the student's score (or -100 to quit): \");\n",
    "      score = input.nextInt();\n",
    "      \n",
    "      // if the score is less than 30, the user cannot advance\n",
    "      if (score >= 0 && score <= 29) {\n",
    "        System.out.println(\"\\nScore: {\" + score + \"} | is not enough to advance to the next level.\");\n",
    "      }\n",
    "\n",
    "      // if the score is then less than 80, they can go on, but haven't beaten the high score of 80\n",
    "      else {\n",
    "      if (score >= 30 && score <= 79) {\n",
    "        System.out.println(\"\\nScore: {\" + score + \"} | is enough to advance, but is less than the high score.\");\n",
    "      }\n",
    "\n",
    "      // if they got higher than 80, they've gotten the high score\n",
    "      else {\n",
    "      if (score >= 80 && score <= 100) {\n",
    "        System.out.println(\"\\nScore: {\" + score + \"} | is enough to advance, and greater than the high score!\");\n",
    "      }\n",
    "\n",
    "      // this is what runs if they decide to quit the program\n",
    "      else {\n",
    "        if (score == -100) {\n",
    "          System.out.println(\"Goodbye!\");\n",
    "        }\n",
    "\n",
    "        // this is if the user types in an invalid score\n",
    "        else {\n",
    "          System.out.println(\"The score entered is invalid. Please try again.\");\n",
    "        }\n",
    "      }\n",
    "    }\n",
    "}\n",
    "    }\n",
    "    \n",
    "  }\n",
    "}\n",
    "Score.main(null);"
   ]
  },
  {
   "cell_type": "markdown",
   "metadata": {},
   "source": [
    "## De Morgan's Laws\n",
    "- De Morgan's Law of Union: The complement of the union of the two sets A and B will be equal to the intersection of A' (complement of A) and B' (complement of B). This is also known as De Morgan's Law of Union. It can be represented as (A ∪ B)’ = A’ ∩ B’. \n",
    "- De Morgan's Law of Intersection: The complement of the intersection of A and B will be equal to the union of A' and B'. This condition is called De Morgan's law of Intersection. It can be given by (A ∩ B)’ = A’ ∪ B’.\n",
    "\n",
    "### Simplified:\n",
    "- not(A and B) --> notA or notB\n",
    "- not(A or B) --> notA and notB\n",
    "- not(A and B) =/= notA and notB"
   ]
  }
 ],
 "metadata": {
  "kernelspec": {
   "display_name": "Java",
   "language": "java",
   "name": "java"
  },
  "language_info": {
   "codemirror_mode": "java",
   "file_extension": ".jshell",
   "mimetype": "text/x-java-source",
   "name": "java",
   "pygments_lexer": "java",
   "version": "11.0.16+8-post-Ubuntu-0ubuntu120.04"
  },
  "orig_nbformat": 4
 },
 "nbformat": 4,
 "nbformat_minor": 2
}
