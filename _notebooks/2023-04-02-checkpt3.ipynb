{
 "cells": [
  {
   "cell_type": "markdown",
   "metadata": {},
   "source": [
    "# Sort, Space and Time Complexity\n",
    "\n",
    "- toc: true\n",
    "- badges: true\n",
    "- comments: true\n",
    "- categories: [fastpages, jupyter]"
   ]
  },
  {
   "attachments": {},
   "cell_type": "markdown",
   "metadata": {},
   "source": [
    "## Insertion Sort:"
   ]
  },
  {
   "cell_type": "code",
   "execution_count": 8,
   "metadata": {
    "vscode": {
     "languageId": "java"
    }
   },
   "outputs": [
    {
     "name": "stdout",
     "output_type": "stream",
     "text": [
      "Before Sort: 5 2 8 1 9 7 4 3 6 \n",
      "After Sort: 1 2 3 4 5 6 7 8 9 "
     ]
    }
   ],
   "source": [
    "public class InsertionSort {\n",
    "    public static void main(String[] args) {\n",
    "        int[] arr = {5, 2, 8, 1, 9, 7, 4, 3, 6};\n",
    "\n",
    "        System.out.print(\"Before Sort: \");\n",
    "        for (int i = 0; i < arr.length; i++) {\n",
    "            System.out.print(arr[i] + \" \");\n",
    "        }\n",
    "\n",
    "        // call insertion sort method\n",
    "        insertionSort(arr);\n",
    "\n",
    "        System.out.println();\n",
    "        System.out.print(\"After Sort: \");\n",
    "        // print sorted array\n",
    "        for (int i = 0; i < arr.length; i++) {\n",
    "            System.out.print(arr[i] + \" \");\n",
    "        }\n",
    "    }\n",
    "\n",
    "    public static void insertionSort(int[] arr) {\n",
    "        int n = arr.length;\n",
    "\n",
    "        for (int i = 1; i < n; i++) {\n",
    "            int key = arr[i];\n",
    "            int j = i - 1;\n",
    "\n",
    "            /* Move elements of arr[0..i-1], that are greater than key, \n",
    "            to one position ahead of their current position */\n",
    "            while (j >= 0 && arr[j] > key) {\n",
    "                arr[j + 1] = arr[j];\n",
    "                j = j - 1;\n",
    "            }\n",
    "            arr[j + 1] = key;\n",
    "        }\n",
    "    }\n",
    "}\n",
    "InsertionSort.main(null);"
   ]
  },
  {
   "attachments": {},
   "cell_type": "markdown",
   "metadata": {},
   "source": [
    "### Big O Analysis: O(n^2)\n",
    "- The worst-case time complexity of insertion sort is O(n^2), where n is the number of elements in the array. This means that as the size of the input array increases, the running time of the algorithm grows quadratically.\n",
    "\n",
    "- In the worst case, when the input array is sorted in reverse order, each element in the array must be compared with and moved past every other element to reach its correct position, resulting in n-1 comparisons and n-1 swaps. This gives a total of (n-1) + (n-2) + ... + 1 = n(n-1)/2 comparisons and swaps, which is O(n^2).\n",
    "\n",
    "- However, in the best case, when the input array is already sorted, the algorithm only needs to make n-1 comparisons and no swaps, giving a time complexity of O(n).\n",
    "\n",
    "- In practice, insertion sort is often used for small arrays or as a subroutine in other sorting algorithms, such as quicksort or merge sort, where it can be used to sort small subarrays efficiently.\n",
    "\n",
    "## Merge Sort"
   ]
  },
  {
   "cell_type": "code",
   "execution_count": 9,
   "metadata": {
    "vscode": {
     "languageId": "java"
    }
   },
   "outputs": [
    {
     "name": "stdout",
     "output_type": "stream",
     "text": [
      "Before Sort: 5 2 8 1 9 7 4 3 6 \n",
      "After Sort: 1 2 3 4 5 6 7 8 9 "
     ]
    }
   ],
   "source": [
    "public class MergeSort {\n",
    "    public static void main(String[] args) {\n",
    "        int[] arr = {5, 2, 8, 1, 9, 7, 4, 3, 6};\n",
    "\n",
    "        System.out.print(\"Before Sort: \");\n",
    "        for (int i = 0; i < arr.length; i++) {\n",
    "            System.out.print(arr[i] + \" \");\n",
    "        }\n",
    "\n",
    "        // call merge sort method\n",
    "        mergeSort(arr, 0, arr.length - 1);\n",
    "\n",
    "        System.out.println();\n",
    "        System.out.print(\"After Sort: \");\n",
    "        // print sorted array\n",
    "        for (int i = 0; i < arr.length; i++) {\n",
    "            System.out.print(arr[i] + \" \");\n",
    "        }\n",
    "    }\n",
    "\n",
    "    public static void mergeSort(int[] arr, int left, int right) {\n",
    "        if (left < right) {\n",
    "            int mid = (left + right) / 2;\n",
    "\n",
    "            // sort left and right halves recursively\n",
    "            mergeSort(arr, left, mid);\n",
    "            mergeSort(arr, mid + 1, right);\n",
    "\n",
    "            // merge the sorted halves\n",
    "            merge(arr, left, mid, right);\n",
    "        }\n",
    "    }\n",
    "\n",
    "    public static void merge(int[] arr, int left, int mid, int right) {\n",
    "        int n1 = mid - left + 1;\n",
    "        int n2 = right - mid;\n",
    "\n",
    "        // create temporary arrays\n",
    "        int[] L = new int[n1];\n",
    "        int[] R = new int[n2];\n",
    "\n",
    "        // copy data to temporary arrays\n",
    "        for (int i = 0; i < n1; i++) {\n",
    "            L[i] = arr[left + i];\n",
    "        }\n",
    "        for (int j = 0; j < n2; j++) {\n",
    "            R[j] = arr[mid + 1 + j];\n",
    "        }\n",
    "\n",
    "        // merge the temporary arrays back into arr\n",
    "        int i = 0, j = 0, k = left;\n",
    "\n",
    "        while (i < n1 && j < n2) {\n",
    "            if (L[i] <= R[j]) {\n",
    "                arr[k] = L[i];\n",
    "                i++;\n",
    "            } else {\n",
    "                arr[k] = R[j];\n",
    "                j++;\n",
    "            }\n",
    "            k++;\n",
    "        }\n",
    "\n",
    "        // copy any remaining elements from L and R\n",
    "        while (i < n1) {\n",
    "            arr[k] = L[i];\n",
    "            i++;\n",
    "            k++;\n",
    "        }\n",
    "        while (j < n2) {\n",
    "            arr[k] = R[j];\n",
    "            j++;\n",
    "            k++;\n",
    "        }\n",
    "    }\n",
    "}\n",
    "MergeSort.main(null);"
   ]
  },
  {
   "attachments": {},
   "cell_type": "markdown",
   "metadata": {},
   "source": [
    "### Big O Analysis: O(n*log(n))\n",
    "- The worst-case time complexity of merge sort is O(n*log(n)), where n is the number of elements in the array. This means that as the size of the input array increases, the running time of the algorithm grows at a rate that is roughly proportional to n times the logarithm of n.\n",
    "\n",
    "- The merge sort algorithm works by dividing the input array into halves recursively until each subarray contains only one element. It then merges the sorted subarrays back together, comparing the first element of each subarray and moving the smaller element into the final sorted array until all elements have been merged. This process is repeated until the entire array is sorted.\n",
    "\n",
    "- The key to the efficiency of merge sort is that the merge step is able to combine two sorted subarrays into a single sorted array in O(n) time, where n is the total number of elements in both subarrays. This means that the overall time complexity of merge sort is dominated by the recursive splitting of the input array into halves, which requires O(log(n)) levels of recursion. Since each level of recursion performs O(n) work, the total time complexity of merge sort is O(n*log(n)).\n",
    "\n",
    "- In practice, merge sort is a highly efficient algorithm for sorting large arrays or lists, and is widely used in industry and academia for its stability, predictability, and scalability.\n",
    "\n",
    "## Bubble Sort"
   ]
  },
  {
   "cell_type": "code",
   "execution_count": 10,
   "metadata": {
    "vscode": {
     "languageId": "java"
    }
   },
   "outputs": [
    {
     "name": "stdout",
     "output_type": "stream",
     "text": [
      "Before Sort: 5 2 8 1 9 7 4 3 6 \n",
      "After Sort: 1 2 3 4 5 6 7 8 9 "
     ]
    }
   ],
   "source": [
    "public class BubbleSort {\n",
    "    public static void main(String[] args) {\n",
    "        int[] arr = {5, 2, 8, 1, 9, 7, 4, 3, 6};\n",
    "\n",
    "        System.out.print(\"Before Sort: \");\n",
    "        for (int i = 0; i < arr.length; i++) {\n",
    "            System.out.print(arr[i] + \" \");\n",
    "        }\n",
    "\n",
    "        // call bubble sort method\n",
    "        bubbleSort(arr);\n",
    "\n",
    "        System.out.println();\n",
    "        System.out.print(\"After Sort: \");\n",
    "        // print sorted array\n",
    "        for (int i = 0; i < arr.length; i++) {\n",
    "            System.out.print(arr[i] + \" \");\n",
    "        }\n",
    "    }\n",
    "\n",
    "    public static void bubbleSort(int[] arr) {\n",
    "        int n = arr.length;\n",
    "\n",
    "        for (int i = 0; i < n - 1; i++) {\n",
    "            for (int j = 0; j < n - i - 1; j++) {\n",
    "                if (arr[j] > arr[j + 1]) {\n",
    "                    // swap arr[j] and arr[j+1]\n",
    "                    int temp = arr[j];\n",
    "                    arr[j] = arr[j + 1];\n",
    "                    arr[j + 1] = temp;\n",
    "                }\n",
    "            }\n",
    "        }\n",
    "    }\n",
    "}\n",
    "BubbleSort.main(null);"
   ]
  },
  {
   "attachments": {},
   "cell_type": "markdown",
   "metadata": {},
   "source": [
    "### Big O Analysis: O(n^2)\n",
    "- The worst-case time complexity of the bubble sort algorithm is O(n^2), where n is the number of elements in the array being sorted.\n",
    "\n",
    "- In the worst-case scenario, when the input array is in reverse order, the bubble sort algorithm will need to perform n-1 passes through the array to sort it, and each pass requires n-i-1 comparisons and swaps. This means that the total number of comparisons and swaps required is approximately (n-1) * (n-1) = n^2 - 2n + 1. When we ignore the lower-order terms and the constant coefficient, the time complexity of bubble sort reduces to O(n^2).\n",
    "\n",
    "- Bubble sort is not very efficient for sorting large arrays or lists, as its time complexity grows quadratically with the size of the input. However, it has the advantage of being a simple and easy-to-understand algorithm, and can be useful for sorting small datasets or for educational purposes. In practice, more efficient sorting algorithms like merge sort, quicksort, or heapsort are typically used for larger datasets.\n",
    "\n",
    "## Selection Sort"
   ]
  },
  {
   "cell_type": "code",
   "execution_count": 11,
   "metadata": {
    "vscode": {
     "languageId": "java"
    }
   },
   "outputs": [
    {
     "name": "stdout",
     "output_type": "stream",
     "text": [
      "Before Sort: 5 2 8 1 9 7 4 3 6 \n",
      "After Sort: 1 2 3 4 5 6 7 8 9 "
     ]
    }
   ],
   "source": [
    "public class SelectionSort {\n",
    "    public static void main(String[] args) {\n",
    "        int[] arr = {5, 2, 8, 1, 9, 7, 4, 3, 6};\n",
    "\n",
    "        System.out.print(\"Before Sort: \");\n",
    "        for (int i = 0; i < arr.length; i++) {\n",
    "            System.out.print(arr[i] + \" \");\n",
    "        }\n",
    "\n",
    "        // call selection sort method\n",
    "        selectionSort(arr);\n",
    "\n",
    "        System.out.println();\n",
    "        System.out.print(\"After Sort: \");\n",
    "        // print sorted array\n",
    "        for (int i = 0; i < arr.length; i++) {\n",
    "            System.out.print(arr[i] + \" \");\n",
    "        }\n",
    "    }\n",
    "\n",
    "    public static void selectionSort(int[] arr) {\n",
    "        int n = arr.length;\n",
    "\n",
    "        // traverse the array\n",
    "        for (int i = 0; i < n - 1; i++) {\n",
    "            // find the minimum element in the unsorted part of the array\n",
    "            int minIdx = i;\n",
    "            for (int j = i + 1; j < n; j++) {\n",
    "                if (arr[j] < arr[minIdx]) {\n",
    "                    minIdx = j;\n",
    "                }\n",
    "            }\n",
    "\n",
    "            // swap the minimum element with the first element in the unsorted part of the array\n",
    "            int temp = arr[minIdx];\n",
    "            arr[minIdx] = arr[i];\n",
    "            arr[i] = temp;\n",
    "        }\n",
    "    }\n",
    "}\n",
    "SelectionSort.main(null);"
   ]
  },
  {
   "attachments": {},
   "cell_type": "markdown",
   "metadata": {},
   "source": [
    "### Big O Analysis: O(n^2)\n",
    "- The worst-case time complexity of the selection sort algorithm is O(n^2), where n is the number of elements in the array being sorted.\n",
    "\n",
    "- In the worst-case scenario, when the input array is in reverse order, the selection sort algorithm will need to perform n-1 passes through the array to sort it, and each pass requires n-i-1 comparisons and swaps. This means that the total number of comparisons and swaps required is approximately (n-1) * (n-1) = n^2 - 2n + 1. When we ignore the lower-order terms and the constant coefficient, the time complexity of selection sort reduces to O(n^2).\n",
    "\n",
    "- Selection sort is not very efficient for sorting large arrays or lists, as its time complexity grows quadratically with the size of the input. However, it has the advantage of being a simple and easy-to-understand algorithm, and can be useful for sorting small datasets or for educational purposes. In practice, more efficient sorting algorithms like merge sort, quicksort, or heapsort are typically used for larger datasets."
   ]
  }
 ],
 "metadata": {
  "kernelspec": {
   "display_name": "Java",
   "language": "java",
   "name": "java"
  },
  "language_info": {
   "codemirror_mode": "java",
   "file_extension": ".jshell",
   "mimetype": "text/x-java-source",
   "name": "Java",
   "pygments_lexer": "java",
   "version": "11.0.17+8-post-Ubuntu-1ubuntu222.04"
  },
  "orig_nbformat": 4
 },
 "nbformat": 4,
 "nbformat_minor": 2
}
