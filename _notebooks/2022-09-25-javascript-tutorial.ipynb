{
 "cells": [
  {
   "cell_type": "markdown",
   "metadata": {},
   "source": [
    "# JavaScript Tutorial\n",
    "\n",
    "- toc: true\n",
    "- badges: true\n",
    "- comments: true\n",
    "- categories: [fastpages, jupyter]\n",
    "\n",
    "## Console Log Use"
   ]
  },
  {
   "cell_type": "code",
   "execution_count": null,
   "metadata": {},
   "outputs": [
    {
     "ename": "",
     "evalue": "",
     "output_type": "error",
     "traceback": [
      "\u001b[1;31mFailed to start the Kernel. \n",
      "\u001b[1;31mView Jupyter <a href='command:jupyter.viewOutput'>log</a> for further details."
     ]
    }
   ],
   "source": [
    "var msg = \"Hello, World!\";\n",
    "\n",
    "function logIt(output) {\n",
    "    console.log(output);\n",
    "}\n",
    "logIt(msg);\n",
    "\n",
    "console.log(\"Reuse of logIT\")\n",
    "logIt(\"Hello, Students!\");\n",
    "logIt(2022)"
   ]
  },
  {
   "cell_type": "markdown",
   "metadata": {},
   "source": [
    "## Loosely Typed Language Demonstration"
   ]
  },
  {
   "cell_type": "code",
   "execution_count": null,
   "metadata": {},
   "outputs": [
    {
     "ename": "",
     "evalue": "",
     "output_type": "error",
     "traceback": [
      "\u001b[1;31mFailed to start the Kernel. \n",
      "\u001b[1;31mView Jupyter <a href='command:jupyter.viewOutput'>log</a> for further details."
     ]
    }
   ],
   "source": [
    "function logItType(output) {\n",
    "    console.log(typeof output, \";\", output);\n",
    "}\n",
    "console.log(\"Looking at dynamic nature of types in JavaScript\")\n",
    "logItType(\"hello\"); // String\n",
    "logItType(2020);    // Number\n",
    "logItType([1, 2, 3]);  // Object is generic for this Array, which similar to Python List"
   ]
  },
  {
   "cell_type": "markdown",
   "metadata": {},
   "source": [
    "## Timer"
   ]
  },
  {
   "cell_type": "code",
   "execution_count": null,
   "metadata": {},
   "outputs": [
    {
     "ename": "",
     "evalue": "",
     "output_type": "error",
     "traceback": [
      "\u001b[1;31mFailed to start the Kernel. \n",
      "\u001b[1;31mView Jupyter <a href='command:jupyter.viewOutput'>log</a> for further details."
     ]
    }
   ],
   "source": [
    "$$.async();\n",
    "\n",
    "console.log(\"Hello, World!\");\n",
    "\n",
    "var action = {\n",
    "    $$: $$,\n",
    "    console: console,\n",
    "};\n",
    "\n",
    "setTimeout(function() {\n",
    "    $$.clear(0);    // clear output cell\n",
    "    action.$$.sendResult(\"Goodbye!\");\n",
    "}, 2000);  // 2 second timer"
   ]
  },
  {
   "cell_type": "markdown",
   "metadata": {},
   "source": [
    "## Colors Hack"
   ]
  },
  {
   "cell_type": "code",
   "execution_count": null,
   "metadata": {},
   "outputs": [
    {
     "ename": "",
     "evalue": "",
     "output_type": "error",
     "traceback": [
      "\u001b[1;31mFailed to start the Kernel. \n",
      "\u001b[1;31mView Jupyter <a href='command:jupyter.viewOutput'>log</a> for further details."
     ]
    }
   ],
   "source": [
    "const resultContainer = document.getElementById(\"result\");\n",
    "\n",
    "   // function holds data for colors\n",
    "    function Color(name, emotion, symbolism) {\n",
    "        this.name = name;\n",
    "        this.emotion = emotion;\n",
    "        this.symbolism = symbolism;\n",
    "    }\n",
    "\n",
    "    // json conversion function\n",
    "    Color.prototype.toJSON = function() {\n",
    "        const obj = {name: this.name, emotion: this.emotion, symbolism: this.symbolism};\n",
    "        const json = JSON.stringify(obj);\n",
    "        return json;\n",
    "    }\n",
    "\n",
    "    // list of colors\n",
    "    var list = [ \n",
    "        new Color( \"Red\", \":)\", \"life, health, vigor\"),\n",
    "        new Color( \"Orange\", \":)\", \"fun, strength, courage\"),\n",
    "        new Color( \"Yellow\", \":)\", \"happiness, warmth, sunshine\"),\n",
    "        new Color( \"Green\", \":|\", \"nature, wisdom\"),\n",
    "        new Color( \"Blue\", \":(\", \"calmness, despair\"),\n",
    "        new Color( \"Indigo\", \":(\", \"communication, peace\"),\n",
    "        new Color( \"Violet\", \":(\", \"higher self, comprehension\")\n",
    "    ];\n",
    "\n",
    "    function ColorClass(colors){\n",
    "        this.ColorClass = colors;\n",
    "        this.json = [];\n",
    "        this.ColorClass.forEach(colors => this.json.push(colors.toJSON()));\n",
    "    }\n",
    "\n",
    "    // creates colorlist object\n",
    "    colorlist = new ColorClass(list);\n",
    "\n",
    "// javascript variables and methods to build html using previous data\n",
    "\n",
    "    for (const row of colorlist.ColorClass) {\n",
    "\n",
    "        const tr = document.createElement(\"tr\");\n",
    "\n",
    "        const name = document.createElement(\"td\");\n",
    "        const emotion = document.createElement(\"td\");\n",
    "        const symbolism = document.createElement(\"td\");\n",
    "\n",
    "        name.innerHTML = row.name;\n",
    "        emotion.innerHTML = row.emotion; \n",
    "        symbolism.innerHTML = row.symbolism; \n",
    "\n",
    "\n",
    "        tr.appendChild(symbolism);\n",
    "        tr.appendChild(name);\n",
    "        tr.appendChild(emotion);\n",
    "\n",
    "\n",
    "        resultContainer.appendChild(tr);\n",
    "    }"
   ]
  }
 ],
 "metadata": {
  "kernelspec": {
   "display_name": "JavaScript (Node.js)",
   "language": "javascript",
   "name": "javascript"
  },
  "language_info": {
   "codemirror_mode": "java",
   "file_extension": ".jshell",
   "mimetype": "text/x-java-source",
   "name": "javascript",
   "pygments_lexer": "java",
   "version": "11.0.16+8-post-Ubuntu-0ubuntu120.04"
  },
  "orig_nbformat": 4,
  "vscode": {
   "interpreter": {
    "hash": "916dbcbb3f70747c44a77c7bcd40155683ae19c65e1c03b4aa3499c5328201f1"
   }
  }
 },
 "nbformat": 4,
 "nbformat_minor": 2
}
