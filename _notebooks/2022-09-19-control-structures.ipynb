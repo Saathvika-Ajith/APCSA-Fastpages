{
 "cells": [
  {
   "cell_type": "markdown",
   "metadata": {},
   "source": [
    "# Control Structures in Java\n",
    "\n",
    "- toc: true\n",
    "- badges: true\n",
    "- comments: true\n",
    "- categories: [fastpages, jupyter]"
   ]
  },
  {
   "cell_type": "markdown",
   "metadata": {},
   "source": [
    "- Conditional Branches, which we use for choosing between two or more paths.\n",
    "- Loops that are used to iterate through and repeatedly run specific code blocks. \n",
    "- Branching Statements, which are used to alter the flow of control in loops. \n",
    "\n",
    "## Conditional Branches:\n",
    "### The If/Else Statement"
   ]
  },
  {
   "cell_type": "code",
   "execution_count": null,
   "metadata": {},
   "outputs": [],
   "source": [
    "if (count > 2) {\n",
    "    System.out.println(\"Count is higher than 2\");\n",
    "} else {\n",
    "    System.out.println(\"Count is lower or equal than 2\");\n",
    "}"
   ]
  },
  {
   "cell_type": "markdown",
   "metadata": {},
   "source": [
    "### The Switch Statement"
   ]
  },
  {
   "cell_type": "code",
   "execution_count": null,
   "metadata": {},
   "outputs": [],
   "source": [
    "switch (count) {\n",
    "    case 0:\n",
    "        System.out.println(\"Count is equal to 0\");\n",
    "        break;\n",
    "    case 1:\n",
    "        System.out.println(\"Count is equal to 1\");\n",
    "        break;\n",
    "    default:\n",
    "        System.out.println(\"Count is either negative, or higher than 1\");\n",
    "        break;\n",
    "    }"
   ]
  },
  {
   "cell_type": "markdown",
   "metadata": {},
   "source": [
    "## Loops!\n",
    "### The For Loop:"
   ]
  },
  {
   "cell_type": "code",
   "execution_count": null,
   "metadata": {},
   "outputs": [],
   "source": [
    "for (int i = 1; i <= 50; i++) {\n",
    "    methodToRepeat();\n",
    "}"
   ]
  },
  {
   "cell_type": "markdown",
   "metadata": {},
   "source": [
    "### The While Loop:"
   ]
  },
  {
   "cell_type": "code",
   "execution_count": null,
   "metadata": {},
   "outputs": [],
   "source": [
    "int whileCounter = 1;\n",
    "while (whileCounter <= 50) {\n",
    "    methodToRepeat();\n",
    "    whileCounter++;\n",
    "}"
   ]
  },
  {
   "cell_type": "markdown",
   "metadata": {},
   "source": [
    "## Branching Statements:\n",
    "### The Break:"
   ]
  },
  {
   "cell_type": "code",
   "execution_count": null,
   "metadata": {},
   "outputs": [],
   "source": [
    "List<String> names = getNameList();\n",
    "String name = \"John Doe\";\n",
    "int index = 0;\n",
    "for ( ; index < names.length; index++) {\n",
    "    if (names[index].equals(name)) {\n",
    "        break;\n",
    "    }\n",
    "}"
   ]
  },
  {
   "cell_type": "markdown",
   "metadata": {},
   "source": [
    "### The Continue:"
   ]
  },
  {
   "cell_type": "code",
   "execution_count": null,
   "metadata": {},
   "outputs": [],
   "source": [
    "List<String> names = getNameList();\n",
    "String name = \"John Doe\";\n",
    "String list = \"\";\n",
    "for (int i = 0; i < names.length; i++) { \n",
    "    if (names[i].equals(name)) {\n",
    "        continue;\n",
    "    }\n",
    "    list += names[i];\n",
    "}"
   ]
  }
 ],
 "metadata": {
  "kernelspec": {
   "display_name": "Java",
   "language": "java",
   "name": "java"
  },
  "language_info": {
   "name": "java",
   "version": "3.8.10"
  },
  "orig_nbformat": 4,
  "vscode": {
   "interpreter": {
    "hash": "916dbcbb3f70747c44a77c7bcd40155683ae19c65e1c03b4aa3499c5328201f1"
   }
  }
 },
 "nbformat": 4,
 "nbformat_minor": 2
}
