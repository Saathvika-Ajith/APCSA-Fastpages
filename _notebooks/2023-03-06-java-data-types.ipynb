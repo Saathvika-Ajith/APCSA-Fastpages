{
 "cells": [
  {
   "attachments": {},
   "cell_type": "markdown",
   "metadata": {},
   "source": [
    "# Java Data Types\n",
    "\n",
    "- toc: true\n",
    "- badges: true\n",
    "- comments: true\n",
    "- categories: [fastpages, jupyter]"
   ]
  },
  {
   "attachments": {},
   "cell_type": "markdown",
   "metadata": {},
   "source": [
    "### Sample Binary Addition"
   ]
  },
  {
   "cell_type": "code",
   "execution_count": 2,
   "metadata": {},
   "outputs": [
    {
     "name": "stdout",
     "output_type": "stream",
     "text": [
      "Enter first binary number: 1111\n",
      "Enter second binary number: 10101\n",
      "Output: 100100\n"
     ]
    }
   ],
   "source": [
    "import java.util.Scanner;\n",
    "public class JavaBinaryAdder {\n",
    "   public static void main(String[] args)\n",
    "   {\n",
    "\t//Two variables to hold two input binary numbers\t \n",
    "\tlong b1, b2;\n",
    "\tint i = 0, carry = 0;\n",
    "\n",
    "\t//This is to hold the output binary number\n",
    "\tint[] sum = new int[10];\n",
    "\n",
    "\t//To read the input binary numbers entered by user\n",
    "\tScanner scanner = new Scanner(System.in);\n",
    "\n",
    "\t//getting first binary number from user\n",
    "\tSystem.out.print(\"Enter first binary number: \");\n",
    "\tb1 = scanner.nextLong();\n",
    "    System.out.print(b1);\n",
    "    System.out.println();\n",
    "\t//getting second binary number from user\n",
    "\tSystem.out.print(\"Enter second binary number: \");\n",
    "\tb2 = scanner.nextLong();\n",
    "    System.out.print(b2);\n",
    "    System.out.println();\n",
    "\n",
    "\t//closing scanner after use to avoid memory leak\n",
    "\tscanner.close();\n",
    "\twhile (b1 != 0 || b2 != 0) \n",
    "\t{\n",
    "\t\tsum[i++] = (int)((b1 % 10 + b2 % 10 + carry) % 2);\n",
    "\t\tcarry = (int)((b1 % 10 + b2 % 10 + carry) / 2);\n",
    "\t\tb1 = b1 / 10;\n",
    "\t\tb2 = b2 / 10;\n",
    "\t}\n",
    "\tif (carry != 0) {\n",
    "\t\tsum[i++] = carry;\n",
    "\t}\n",
    "\t--i;\n",
    "\tSystem.out.print(\"Output: \");\n",
    "\twhile (i >= 0) {\n",
    "\t\tSystem.out.print(sum[i--]);\n",
    "\t}\n",
    "\tSystem.out.print(\"\\n\");  \n",
    "   }\n",
    "}\n",
    "JavaBinaryAdder.main(null);"
   ]
  },
  {
   "attachments": {},
   "cell_type": "markdown",
   "metadata": {},
   "source": [
    "### Code Example: Before and After Multiplying by 5"
   ]
  },
  {
   "cell_type": "code",
   "execution_count": 23,
   "metadata": {},
   "outputs": [
    {
     "name": "stdout",
     "output_type": "stream",
     "text": [
      "Enter number: Main method before changeInt(n): n = 6\n",
      "In changeInt method\n",
      "\tBefore n *= 5: n = 6\n",
      "\tAfter n *= 5: n = 30\n",
      "Main method after changeInt(n): n = 6\n"
     ]
    }
   ],
   "source": [
    "import java.util.Scanner;\n",
    "public class MultiplyBy5 {\n",
    "    \n",
    "    public static void changeInt(int n) {\n",
    "        System.out.println(\"In changeInt method\");\n",
    "        System.out.println(\"\\tBefore n *= 5: n = \" + n); // prints 5\n",
    "        n = n *= 5;\n",
    "        System.out.println(\"\\tAfter n *= 5: n = \" + n); // prints 10\n",
    "    }\n",
    "\n",
    "    public static void main(String[] args) {\n",
    "        int n = 0;\n",
    "        Scanner scanner = new Scanner(System.in);\n",
    "        System.out.print(\"Enter number: \");\n",
    "\t    n = scanner.nextInt();\n",
    "        System.out.println(\"Main method before changeInt(n): n = \" + n); // prints 5\n",
    "        changeInt(n);\n",
    "        System.out.println(\"Main method after changeInt(n): n = \" + n); // still prints 5\n",
    "    }\n",
    "}\n",
    "MultiplyBy5.main(null);"
   ]
  },
  {
   "attachments": {},
   "cell_type": "markdown",
   "metadata": {},
   "source": [
    "### Converting to Wrapper Class"
   ]
  },
  {
   "cell_type": "code",
   "execution_count": null,
   "metadata": {},
   "outputs": [],
   "source": [
    "int primitiveInt = n;\n",
    "Integer[] wrapperIntArray = new Integer[] { primitiveInt };\n",
    "Integer wrapperInt = wrapperIntArray[0];"
   ]
  },
  {
   "attachments": {},
   "cell_type": "markdown",
   "metadata": {},
   "source": [
    "## Exploring Teacher Code:\n",
    "### What are Methods and Control Structures?\n",
    "- A method, also known as a function or subroutine, is a block of code that performs a specific task. Methods can be called multiple times and can accept input parameters and return output values. They are used to break down complex tasks into smaller, more manageable units of code.\n",
    "- Control structures are used to control the flow of execution in a program. They determine the order in which statements are executed based on certain conditions. There are three main types of control structures:\n",
    "  1. Conditional statements: These are used to execute a certain block of code only if a particular condition is met. Examples include the \"if\" statement, the \"else\" statement, and the \"switch\" statement.\n",
    "  2. Looping statements: These are used to repeat a block of code until a particular condition is met. Examples include the \"for\" loop, the \"while\" loop, and the \"do-while\" loop.\n",
    "  3. Jump statements: These are used to transfer control to another part of the program. Examples include the \"break\" statement, the \"continue\" statement, and the \"return\" statement.\n",
    "\n",
    "### Diverse Arrays\n",
    "- This code definitely contains multiple Methods and Control Structures. The Methods are seen in functions such as arraySum(), rowSums(), and isDiverse(), as they are called in different places within the class and each do their own procedure. The Control Structures can be seen in the multiple conventional for loops in each of the methods."
   ]
  }
 ],
 "metadata": {
  "kernelspec": {
   "display_name": "Java",
   "language": "java",
   "name": "java"
  },
  "language_info": {
   "codemirror_mode": "java",
   "file_extension": ".jshell",
   "mimetype": "text/x-java-source",
   "name": "java",
   "pygments_lexer": "java",
   "version": "11.0.17+8-post-Ubuntu-1ubuntu222.04"
  },
  "orig_nbformat": 4
 },
 "nbformat": 4,
 "nbformat_minor": 2
}
