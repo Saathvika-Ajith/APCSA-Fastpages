{
 "cells": [
  {
   "cell_type": "markdown",
   "metadata": {},
   "source": [
    "# Primitives Notebook\n",
    "> a primitives demo"
   ]
  },
  {
   "cell_type": "markdown",
   "metadata": {},
   "source": [
    "### Listing the types of primitives:"
   ]
  },
  {
   "cell_type": "code",
   "execution_count": 64,
   "metadata": {
    "vscode": {
     "languageId": "java"
    }
   },
   "outputs": [
    {
     "name": "stdout",
     "output_type": "stream",
     "text": [
      "Types of Primitives:\n",
      "--> Integer: 505\n",
      "--> Double: 99.9\n",
      "--> Character: !\n",
      "--> Boolean: true\n",
      "--> String: Look over there!\n"
     ]
    }
   ],
   "source": [
    "public class ListPrimitives {\n",
    "    public static void main(String[] args) {\n",
    "      \n",
    "      // assigning variable values\n",
    "      int anInt = 505;\n",
    "      double aDouble = 99.9;\n",
    "      boolean aBoolean = true;\n",
    "      char aChar='\\u0021';  \n",
    "      // not a primitive but essential\n",
    "      String aString = \"Look over there!\";\n",
    "  \n",
    "      System.out.println(\"Types of Primitives:\");\n",
    "      System.out.println(\"--> Integer: \" + anInt);\n",
    "      System.out.println(\"--> Double: \" + aDouble);\n",
    "      System.out.println(\"--> Character: \" + aChar);\n",
    "      System.out.println(\"--> Boolean: \" + aBoolean);\n",
    "      System.out.println(\"--> String: \" + aString);\n",
    "    }\n",
    "  }\n",
    "  ListPrimitives.main(null)"
   ]
  },
  {
   "cell_type": "markdown",
   "metadata": {},
   "source": [
    "### Division with ints and doubles:"
   ]
  },
  {
   "cell_type": "code",
   "execution_count": 25,
   "metadata": {
    "vscode": {
     "languageId": "java"
    }
   },
   "outputs": [
    {
     "name": "stdout",
     "output_type": "stream",
     "text": [
      "Integer division with 17/24 is: 0\n",
      "Double division with 17.0/24.0 is: 0.71\n"
     ]
    }
   ],
   "source": [
    "public class Division {\n",
    "    public static void main(String[] args) {\n",
    "  \n",
    "      // setting the variables\n",
    "      int divided = 17 / 24;\n",
    "      double doubleDivided = 17.0 / 24.0;\n",
    "  \n",
    "      // printing out the division in int and double form\n",
    "      System.out.println(\"Integer division with 17/24 is: \" + divided);\n",
    "      // %.2f limits the # of decimal values displayed\n",
    "      System.out.println(\"Double division with 17.0/24.0 is: \" + String.format(\"%.2f\", doubleDivided));      \n",
    "    }\n",
    "  }\n",
    "  // makes it so you can print the code's output\n",
    "  Division.main(null)"
   ]
  },
  {
   "cell_type": "markdown",
   "metadata": {},
   "source": [
    "### Inputting primitive data:"
   ]
  },
  {
   "cell_type": "code",
   "execution_count": 66,
   "metadata": {
    "vscode": {
     "languageId": "java"
    }
   },
   "outputs": [
    {
     "name": "stdout",
     "output_type": "stream",
     "text": [
      "Enter an integer: Not an integer (form like 159), java.util.InputMismatchException\n",
      "Enter a double: 0.0\n",
      "Enter a boolean: true\n",
      "Enter a String: wewew\n"
     ]
    }
   ],
   "source": [
    "// java style to import library\n",
    "import java.util.Scanner;\n",
    "\n",
    "// class must alway have 1st letter as uppercase, CamelCase is Java Class convention\n",
    "public class ScanPrimitives {\n",
    "    public static void main(String[] args) {    \n",
    "        Scanner input;\n",
    "\n",
    "        // primitive int\n",
    "        input = new Scanner(System.in);\n",
    "        System.out.print(\"Enter an integer: \");\n",
    "        try {\n",
    "            int sampleInputInt = input.nextInt();\n",
    "            System.out.println(sampleInputInt);\n",
    "        } catch (Exception e) {  // if not an integer\n",
    "            System.out.println(\"Not an integer (form like 159), \" + e);\n",
    "        }\n",
    "        input.close();\n",
    "\n",
    "        // primitive double\n",
    "        input = new Scanner(System.in);\n",
    "        System.out.print(\"Enter a double: \");\n",
    "        try {\n",
    "            double sampleInputDouble = input.nextDouble();\n",
    "            System.out.println(sampleInputDouble);\n",
    "        } catch (Exception e) {  // if not a number\n",
    "            System.out.println(\"Not an double (form like 9.99), \" + e);\n",
    "        }\n",
    "        input.close();\n",
    "\n",
    "        // primitive boolean\n",
    "        input =  new Scanner(System.in);\n",
    "        System.out.print(\"Enter a boolean: \");\n",
    "        try {\n",
    "            boolean sampleInputBoolean = input.nextBoolean();\n",
    "            System.out.println(sampleInputBoolean);\n",
    "        } catch (Exception e) {  // if not true or false\n",
    "            System.out.println(\"Not an boolean (true or false), \" + e);\n",
    "        }\n",
    "        input.close();\n",
    "\n",
    "        // wrapper class String\n",
    "        input =  new Scanner(System.in);\n",
    "        System.out.print(\"Enter a String: \");\n",
    "        try {\n",
    "            String sampleInputString = input.nextLine();\n",
    "            System.out.println(sampleInputString);\n",
    "        } catch (Exception e) { // this may never happen\n",
    "            System.out.println(\"Not an String, \" + e);\n",
    "        }\n",
    "        input.close();\n",
    "    }\n",
    "}\n",
    "ScanPrimitives.main(null);"
   ]
  },
  {
   "cell_type": "code",
   "execution_count": 67,
   "metadata": {
    "vscode": {
     "languageId": "java"
    }
   },
   "outputs": [
    {
     "ename": "UnresolvedReferenceException",
     "evalue": "Attempt to use definition snippet with unresolved references in Snippet:ClassKey(CtoF)#82-\n\npublic class CtoF {\n    public static void main(String[] args) {\n  \n      input = new Scanner(System.in);\n      System.out.print(\"Enter degrees Celsius: \");\n      try {\n        int sampleInputInt = input.nextInt();\n        System.out.println(sampleInputInt);\n    } catch (Exception e) {  // if not an integer of degrees celsius\n        System.out.println(\"Not an integer degree Celsius (form like 30), \" + e);\n    }\n    input.close();\n      \n    }\n  }",
     "output_type": "error",
     "traceback": [
      "\u001b[1m\u001b[30m|   \u001b[1m\u001b[30m\u001b[0m",
      "\u001b[1m\u001b[30m|   \u001b[1m\u001b[30m\u001b[0m",
      "\u001b[1m\u001b[30m|   \u001b[1m\u001b[30mpublic class CtoF {\u001b[0m",
      "\u001b[1m\u001b[30m|   \u001b[1m\u001b[30m    public static void main(String[] args) {\u001b[0m",
      "\u001b[1m\u001b[30m|   \u001b[1m\u001b[30m  \u001b[0m",
      "\u001b[1m\u001b[30m|   \u001b[1m\u001b[30m      input = new Scanner(System.in);\u001b[0m",
      "\u001b[1m\u001b[30m|   \u001b[1m\u001b[30m      System.out.print(\"Enter degrees Celsius: \");\u001b[0m",
      "\u001b[1m\u001b[30m|   \u001b[1m\u001b[30m      try {\u001b[0m",
      "\u001b[1m\u001b[30m|   \u001b[1m\u001b[30m        int sampleInputInt = input.nextInt();\u001b[0m",
      "\u001b[1m\u001b[30m|   \u001b[1m\u001b[30m        System.out.println(sampleInputInt);\u001b[0m",
      "\u001b[1m\u001b[30m|   \u001b[1m\u001b[30m    } catch (Exception e) {  // if not an integer of degrees celsius\u001b[0m",
      "\u001b[1m\u001b[30m|   \u001b[1m\u001b[30m        System.out.println(\"Not an integer degree Celsius (form like 30), \" + e);\u001b[0m",
      "\u001b[1m\u001b[30m|   \u001b[1m\u001b[30m    }\u001b[0m",
      "\u001b[1m\u001b[30m|   \u001b[1m\u001b[30m    input.close();\u001b[0m",
      "\u001b[1m\u001b[30m|   \u001b[1m\u001b[30m      \u001b[0m",
      "\u001b[1m\u001b[30m|   \u001b[1m\u001b[30m    }\u001b[0m",
      "\u001b[1m\u001b[30m|   \u001b[1m\u001b[30m  }\u001b[0m",
      "\u001b[1m\u001b[31mUnresolved dependencies:\u001b[0m",
      "\u001b[1m\u001b[31m   - variable input\u001b[0m"
     ]
    }
   ],
   "source": [
    "import java.util.Scanner;\n",
    "\n",
    "public class CtoF {\n",
    "    public static void main(String[] args) {\n",
    "  \n",
    "      \n",
    "      input = new Scanner(System.in);\n",
    "      System.out.print(\"Enter degrees Celsius: \");\n",
    "      try {\n",
    "        int sampleInputInt = input.nextInt();\n",
    "        System.out.println(sampleInputInt);\n",
    "    } catch (Exception e) {  // if not an integer of degrees celsius\n",
    "        System.out.println(\"Not an integer degree Celsius (form like 30), \" + e);\n",
    "    }\n",
    "    input.close();\n",
    "      \n",
    "    }\n",
    "  }\n",
    "  // makes it so you can print the code's output\n",
    "  CtoF.main(null)"
   ]
  }
 ],
 "metadata": {
  "kernelspec": {
   "display_name": "Java",
   "language": "java",
   "name": "java"
  },
  "language_info": {
   "codemirror_mode": "java",
   "file_extension": ".jshell",
   "mimetype": "text/x-java-source",
   "name": "Java",
   "pygments_lexer": "java",
   "version": "11.0.16+8-post-Ubuntu-0ubuntu120.04"
  },
  "orig_nbformat": 4,
  "vscode": {
   "interpreter": {
    "hash": "916dbcbb3f70747c44a77c7bcd40155683ae19c65e1c03b4aa3499c5328201f1"
   }
  }
 },
 "nbformat": 4,
 "nbformat_minor": 2
}
