{
 "cells": [
  {
   "cell_type": "markdown",
   "metadata": {},
   "source": [
    "# Bash Notebook\n",
    "> a bash demo\n",
    "### Installation Checks:"
   ]
  },
  {
   "cell_type": "code",
   "execution_count": 19,
   "metadata": {
    "vscode": {
     "languageId": "shellscript"
    }
   },
   "outputs": [
    {
     "name": "stdout",
     "output_type": "stream",
     "text": [
      "The currently installed python verision:\n",
      "Python 3.9.12\n",
      "\n",
      "The currently installed conda verion:\n",
      "conda 4.14.0\n",
      "\n",
      "The currently installed java features:\n",
      "openjdk 11.0.16 2022-07-19\n",
      "OpenJDK Runtime Environment (build 11.0.16+8-post-Ubuntu-0ubuntu120.04)\n",
      "OpenJDK 64-Bit Server VM (build 11.0.16+8-post-Ubuntu-0ubuntu120.04, mixed mode, sharing)\n",
      "\n",
      "The currently installed jupyter packages:\n",
      "Selected Jupyter core packages...\n",
      "IPython          : 8.2.0\n",
      "ipykernel        : 6.9.1\n",
      "ipywidgets       : 7.6.5\n",
      "jupyter_client   : 6.1.12\n",
      "jupyter_core     : 4.9.2\n",
      "jupyter_server   : 1.13.5\n",
      "jupyterlab       : 3.3.2\n",
      "nbclient         : 0.5.13\n",
      "nbconvert        : 6.4.4\n",
      "nbformat         : 5.3.0\n",
      "notebook         : 6.4.8\n",
      "qtconsole        : 5.3.0\n",
      "traitlets        : 5.1.1\n"
     ]
    }
   ],
   "source": [
    "echo \"The currently installed python verision:\"\n",
    "python --version\n",
    "echo \"\"\n",
    "echo \"The currently installed conda verion:\"\n",
    "conda --version\n",
    "echo \"\"\n",
    "echo \"The currently installed java features:\"\n",
    "java --version\n",
    "echo \"\"\n",
    "echo \"The currently installed jupyter packages:\"\n",
    "jupyter --version"
   ]
  },
  {
   "cell_type": "markdown",
   "metadata": {},
   "source": [
    "### Jupyter Kernel Checks:"
   ]
  },
  {
   "cell_type": "code",
   "execution_count": 20,
   "metadata": {
    "vscode": {
     "languageId": "shellscript"
    }
   },
   "outputs": [
    {
     "name": "stdout",
     "output_type": "stream",
     "text": [
      "Available kernels:\n",
      "  bash          /home/saathvika/.local/share/jupyter/kernels/bash\n",
      "  java          /home/saathvika/.local/share/jupyter/kernels/java\n",
      "  javascript    /home/saathvika/.local/share/jupyter/kernels/javascript\n",
      "  python3       /home/saathvika/.local/share/jupyter/kernels/python3\n"
     ]
    }
   ],
   "source": [
    "jupyter kernelspec list"
   ]
  },
  {
   "cell_type": "markdown",
   "metadata": {},
   "source": [
    "### Anaconda Location Check:"
   ]
  },
  {
   "cell_type": "code",
   "execution_count": 29,
   "metadata": {
    "vscode": {
     "languageId": "shellscript"
    }
   },
   "outputs": [
    {
     "name": "stdout",
     "output_type": "stream",
     "text": [
      "Folders inside WSL:\n",
      "\u001b[0m\u001b[01;36mbin\u001b[0m   \u001b[01;34metc\u001b[0m   \u001b[01;36mlib\u001b[0m    \u001b[01;36mlibx32\u001b[0m      \u001b[01;34mmnt\u001b[0m   \u001b[01;34mroot\u001b[0m  \u001b[01;34msnap\u001b[0m  \u001b[30;42mtmp\u001b[0m  \u001b[01;34mwslLdjHgc\u001b[0m\n",
      "\u001b[01;34mboot\u001b[0m  \u001b[01;34mhome\u001b[0m  \u001b[01;36mlib32\u001b[0m  \u001b[01;34mlost+found\u001b[0m  \u001b[01;34mopt\u001b[0m   \u001b[01;34mrun\u001b[0m   \u001b[01;34msrv\u001b[0m   \u001b[01;34musr\u001b[0m  \u001b[01;34mwsldnLbHg\u001b[0m\n",
      "\u001b[01;34mdev\u001b[0m   \u001b[01;32minit\u001b[0m  \u001b[01;36mlib64\u001b[0m  \u001b[01;34mmedia\u001b[0m       \u001b[01;34mproc\u001b[0m  \u001b[01;36msbin\u001b[0m  \u001b[01;34msys\u001b[0m   \u001b[01;34mvar\u001b[0m\n",
      "\n",
      "Folders inside Home:\n",
      "\u001b[0m\u001b[01;34msaathvika\u001b[0m\n",
      "\n",
      "Folders inside Saathvika:\n",
      "\u001b[0m\u001b[01;34mAPCSA\u001b[0m            \u001b[01;32mAnaconda3-2022.05-Linux-x86_64.sh\u001b[0m    \u001b[01;34mvscode\u001b[0m\n",
      "\u001b[01;34mAPCSA-Fastpages\u001b[0m  Anaconda3-2022.05-Linux-x86_64.sh.1\n",
      "\u001b[01;34mAPCSP\u001b[0m            \u001b[01;34manaconda3\u001b[0m\n",
      "\n",
      "We've found Anaconda!\n"
     ]
    }
   ],
   "source": [
    "echo \"Folders inside WSL:\"\n",
    "ls /\n",
    "echo \"\"\n",
    "echo \"Folders inside Home:\"\n",
    "ls /home\n",
    "echo \"\"\n",
    "echo \"Folders inside Saathvika:\"\n",
    "ls /home/saathvika\n",
    "echo \"\"\n",
    "echo \"We've found Anaconda!\""
   ]
  }
 ],
 "metadata": {
  "kernelspec": {
   "display_name": "Bash",
   "language": "bash",
   "name": "bash"
  },
  "language_info": {
   "codemirror_mode": "shell",
   "file_extension": ".sh",
   "mimetype": "text/x-sh",
   "name": "bash"
  },
  "orig_nbformat": 4
 },
 "nbformat": 4,
 "nbformat_minor": 2
}
